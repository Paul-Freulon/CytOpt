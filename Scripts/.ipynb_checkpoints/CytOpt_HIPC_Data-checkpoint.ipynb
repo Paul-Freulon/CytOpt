{
 "cells": [
  {
   "cell_type": "markdown",
   "metadata": {},
   "source": [
    "## CytOpt on the HIPC Data"
   ]
  },
  {
   "cell_type": "markdown",
   "metadata": {},
   "source": [
    "In this notebook, we apply our method ${\\tt CytOpt}$ on various datasets of the HIPC panel. From our numerical experiments, the computation time to get an estimate of the class proportions with the descent-ascent procedure is between 10 and 20 minutes. With the minmax swapping procedure, this computation time is between 1 and 3 minutes."
   ]
  },
  {
   "cell_type": "markdown",
   "metadata": {},
   "source": [
    "##### How to try ${\\tt CytOpt}$ on other HIPC data sets.\n",
    "\n",
    "An HIPC data set has the following structure :\n",
    "\n",
    "xx_y_values : Cytometry measurements \n",
    "\n",
    "xx_y_clust : Corresponding manual clustering\n",
    "\n",
    "xx labels the center where the data analysis was performed.\n",
    "-replace xx by W2 for Stanford .\n",
    "-replace xx by D54 for NHLBI.\n",
    "-replace xx by FTV for Yale.\n",
    "-replace xx by IU for UCLA.\n",
    "-replace xx by O0 for CIMR.\n",
    "-replace xx by pw for Baylor.\n",
    "-replace xx by pM for Miami.\n",
    "\n",
    "y labels the patient and the replicate of the biological sample.\n",
    "-replace y by 1 for patient 1 replicate A (except for Baylor this replicate is not available).\n",
    "-replace y by 2 for patient 1 replicate B.\n",
    "-replace y by 3 for patient 1 replicate C.\n",
    "-replace y by 4 for patient 2 replicate A.\n",
    "-replace y by 5 for patient 2 replicate B.\n",
    "-replace y by 6 for patient 2 replicate C.\n",
    "-replace y by 7 for patient 3 replicate A.\n",
    "-replace y by 8 for patient 3 replicate B.\n",
    "-replace y by 9 for patient 3 replicate C.\n"
   ]
  },
  {
   "cell_type": "markdown",
   "metadata": {},
   "source": [
    "##### import modules and functions"
   ]
  },
  {
   "cell_type": "code",
   "execution_count": 29,
   "metadata": {},
   "outputs": [],
   "source": [
    "import numpy as np\n",
    "import pandas as pd\n",
    "import matplotlib.pyplot as plt\n",
    "import seaborn as sns\n",
    "import time\n",
    "from sklearn import preprocessing\n",
    "from sklearn.preprocessing import MinMaxScaler\n",
    "import sys\n",
    "sys.path.append(\"../Functions\")\n",
    "from Tools_CytOpt_Descent_Ascent import *\n",
    "from Tools_CytOpt_MinMax_Swapping import *"
   ]
  },
  {
   "cell_type": "code",
   "execution_count": 30,
   "metadata": {},
   "outputs": [],
   "source": [
    "#Setting of the seed.\n",
    "np.random.seed(2)"
   ]
  },
  {
   "cell_type": "code",
   "execution_count": 31,
   "metadata": {},
   "outputs": [],
   "source": [
    "sns.set()"
   ]
  },
  {
   "cell_type": "markdown",
   "metadata": {},
   "source": [
    "##### import data"
   ]
  },
  {
   "cell_type": "code",
   "execution_count": 32,
   "metadata": {},
   "outputs": [],
   "source": [
    "#Source Data\n",
    "\n",
    "Stanford1A_values = pd.read_csv('../Data/W2_1_values.csv',\n",
    "                                 usecols = np.arange(1,8))\n",
    "Stanford1A_clust = pd.read_csv('../Data/W2_1_clust.csv',\n",
    "                                usecols = [1])\n",
    "\n",
    "#Target Data\n",
    "\n",
    "Stanford3C_values = pd.read_csv('../Data/W2_9_values.csv',\n",
    "                                 usecols = np.arange(1,8))\n",
    "Stanford3C_clust = pd.read_csv('../Data/W2_9_clust.csv',\n",
    "                                usecols = [1])\n",
    "\n",
    "\n",
    "Miami3A_values = pd.read_csv('../Data/pM_7_values.csv', \n",
    "                             usecols = np.arange(1,8))\n",
    "Miami3A_clust = pd.read_csv('../Data/pM_7_clust.csv',\n",
    "                            usecols = [1])\n",
    "\n",
    "\n",
    "Ucla2B_values = pd.read_csv('../Data/IU_5_values.csv',\n",
    "                            usecols = np.arange(1,8))\n",
    "Ucla2B_clust = pd.read_csv('../Data/IU_5_clust.csv',\n",
    "                           usecols = [1])"
   ]
  },
  {
   "cell_type": "markdown",
   "metadata": {},
   "source": [
    "Preprocessing of the source data"
   ]
  },
  {
   "cell_type": "code",
   "execution_count": 33,
   "metadata": {},
   "outputs": [],
   "source": [
    "X_source = np.asarray(Stanford1A_values)\n",
    "X_source = X_source * (X_source > 0)\n",
    "scaler = MinMaxScaler()\n",
    "X_source = scaler.fit_transform(X_source)\n",
    "Lab_source = np.asarray(Stanford1A_clust['x'])"
   ]
  },
  {
   "cell_type": "markdown",
   "metadata": {},
   "source": [
    "#### Target data : Stanford3C"
   ]
  },
  {
   "cell_type": "markdown",
   "metadata": {},
   "source": [
    "Preprocessing of the target data"
   ]
  },
  {
   "cell_type": "code",
   "execution_count": 34,
   "metadata": {},
   "outputs": [],
   "source": [
    "X_target = np.asarray(Stanford3C_values)\n",
    "X_target = X_target * (X_target > 0)\n",
    "X_target = scaler.fit_transform(X_target)\n",
    "Lab_target = np.asarray(Stanford3C_clust['x'])"
   ]
  },
  {
   "cell_type": "markdown",
   "metadata": {},
   "source": [
    "Computation of the benchmark class proportions"
   ]
  },
  {
   "cell_type": "code",
   "execution_count": 35,
   "metadata": {},
   "outputs": [],
   "source": [
    "h_true = np.zeros(10)\n",
    "for k in range(10):\n",
    "    h_true[k] = np.sum(Lab_target == k+1)/len(Lab_target)"
   ]
  },
  {
   "cell_type": "markdown",
   "metadata": {},
   "source": [
    "##### Descent-ascent procedure"
   ]
  },
  {
   "cell_type": "markdown",
   "metadata": {},
   "source": [
    "Setting of the parameters for the descent-ascent procedure."
   ]
  },
  {
   "cell_type": "code",
   "execution_count": 36,
   "metadata": {},
   "outputs": [],
   "source": [
    "n_it_grad = 5000\n",
    "n_it_sto = 10\n",
    "pas_grad = 10\n",
    "eps=0.0001"
   ]
  },
  {
   "cell_type": "code",
   "execution_count": 37,
   "metadata": {
    "scrolled": true
   },
   "outputs": [
    {
     "name": "stdout",
     "output_type": "stream",
     "text": [
      "\n",
      " Epsilon:  0.0001\n",
      "Iteration  0  - Curent h_hat: \n",
      " [0.10036233 0.10039949 0.10029111 0.10036978 0.10004968 0.09727989\n",
      " 0.10057368 0.10038044 0.10030082 0.09999277]\n",
      "Iteration  100  - Curent h_hat: \n",
      " [0.10915155 0.11186741 0.10501314 0.10849145 0.08652589 0.04324883\n",
      " 0.12154116 0.11470378 0.11347412 0.08598268]\n",
      "Iteration  200  - Curent h_hat: \n",
      " [0.1108255  0.11653206 0.10314696 0.10823278 0.07531843 0.03219294\n",
      " 0.1370936  0.12229659 0.11911388 0.07524726]\n",
      "Iteration  300  - Curent h_hat: \n",
      " [0.11051475 0.11862141 0.09838723 0.10602466 0.06744356 0.02594371\n",
      " 0.15244185 0.12889805 0.12510564 0.06661915]\n",
      "Iteration  400  - Curent h_hat: \n",
      " [0.10872044 0.11884669 0.09341673 0.1034649  0.0607415  0.02253066\n",
      " 0.17000179 0.13433666 0.12698416 0.06095647]\n",
      "Iteration  500  - Curent h_hat: \n",
      " [0.10672836 0.11905518 0.09005983 0.10029001 0.05595705 0.02039741\n",
      " 0.1870269  0.13990589 0.12519447 0.05538489]\n",
      "Iteration  600  - Curent h_hat: \n",
      " [0.10420683 0.11771987 0.08711926 0.09740761 0.05124748 0.01851258\n",
      " 0.20230186 0.14525702 0.12431434 0.05191314]\n",
      "Iteration  700  - Curent h_hat: \n",
      " [0.10093802 0.11659229 0.08388559 0.09330264 0.04795891 0.01679393\n",
      " 0.21915003 0.14881312 0.12256846 0.04999701]\n",
      "Iteration  800  - Curent h_hat: \n",
      " [0.09795162 0.11585504 0.08017213 0.08969535 0.04540101 0.01583939\n",
      " 0.23498897 0.15239508 0.12067006 0.04703134]\n",
      "Iteration  900  - Curent h_hat: \n",
      " [0.09391912 0.11356337 0.07532473 0.08621389 0.04216002 0.01456493\n",
      " 0.25416583 0.15286301 0.12258235 0.04464275]\n",
      "Iteration  1000  - Curent h_hat: \n",
      " [0.0910363  0.11130841 0.07245043 0.08280339 0.03952965 0.01374772\n",
      " 0.27165053 0.15628205 0.11910871 0.04208282]\n",
      "Iteration  1100  - Curent h_hat: \n",
      " [0.08828036 0.10939051 0.06956818 0.08049428 0.03746027 0.01289697\n",
      " 0.27976904 0.16238391 0.11914991 0.04060657]\n",
      "Iteration  1200  - Curent h_hat: \n",
      " [0.085335   0.10726995 0.06739854 0.0773631  0.03555463 0.01214714\n",
      " 0.28737232 0.16703528 0.12189899 0.03862506]\n",
      "Iteration  1300  - Curent h_hat: \n",
      " [0.08308847 0.10587012 0.06567453 0.07542221 0.03397797 0.01141036\n",
      " 0.29578563 0.17099516 0.12116308 0.03661248]\n",
      "Iteration  1400  - Curent h_hat: \n",
      " [0.08050893 0.10458703 0.06343453 0.07321952 0.03243781 0.01104823\n",
      " 0.30296827 0.17578414 0.12104576 0.03496578]\n",
      "Iteration  1500  - Curent h_hat: \n",
      " [0.07745589 0.10229132 0.06164155 0.0704807  0.03098685 0.01038674\n",
      " 0.31451318 0.1755332  0.12355495 0.03315563]\n",
      "Iteration  1600  - Curent h_hat: \n",
      " [0.07556665 0.1015368  0.06039567 0.06913053 0.02983469 0.01005555\n",
      " 0.31691995 0.18256497 0.12157812 0.03241707]\n",
      "Iteration  1700  - Curent h_hat: \n",
      " [0.07349398 0.10001221 0.05871198 0.06712206 0.02896512 0.00987983\n",
      " 0.32423842 0.18378419 0.12221363 0.03157859]\n",
      "Iteration  1800  - Curent h_hat: \n",
      " [0.07212604 0.09967678 0.05783534 0.06658944 0.02828505 0.0094954\n",
      " 0.32441871 0.1871711  0.12316072 0.03124141]\n",
      "Iteration  1900  - Curent h_hat: \n",
      " [0.07022957 0.09822316 0.05635842 0.06512869 0.02760376 0.00927366\n",
      " 0.32588362 0.19082396 0.12602412 0.03045104]\n",
      "Iteration  2000  - Curent h_hat: \n",
      " [0.06846199 0.09734802 0.05588393 0.06386132 0.02678329 0.00891974\n",
      " 0.32943631 0.19711335 0.12272605 0.029466  ]\n",
      "Iteration  2100  - Curent h_hat: \n",
      " [0.0671294  0.09687514 0.05505215 0.06286009 0.02642817 0.00867538\n",
      " 0.33063315 0.20308693 0.12076751 0.0284921 ]\n",
      "Iteration  2200  - Curent h_hat: \n",
      " [0.06571913 0.096157   0.05356426 0.06211849 0.02592889 0.00867823\n",
      " 0.33683733 0.20407077 0.11903169 0.02789421]\n",
      "Iteration  2300  - Curent h_hat: \n",
      " [0.06467062 0.09678834 0.05278782 0.06138461 0.02541925 0.00852888\n",
      " 0.33725245 0.2081402  0.11787584 0.02715198]\n",
      "Iteration  2400  - Curent h_hat: \n",
      " [0.06323806 0.095739   0.05182718 0.06036072 0.02458306 0.00839424\n",
      " 0.34173624 0.20632083 0.12139216 0.02640852]\n",
      "Iteration  2500  - Curent h_hat: \n",
      " [0.0616786  0.09400307 0.05086506 0.05944728 0.02389988 0.00817\n",
      " 0.34892316 0.2058666  0.12159715 0.0255492 ]\n",
      "Iteration  2600  - Curent h_hat: \n",
      " [0.06076772 0.09342454 0.05012715 0.05897739 0.02347761 0.0080735\n",
      " 0.34221798 0.21294556 0.12494535 0.02504319]\n",
      "Iteration  2700  - Curent h_hat: \n",
      " [0.05992718 0.09372115 0.04968247 0.05825565 0.02337399 0.00803035\n",
      " 0.33749522 0.21705397 0.12766824 0.02479177]\n",
      "Iteration  2800  - Curent h_hat: \n",
      " [0.05883148 0.09280312 0.04913454 0.05705882 0.02297054 0.00790006\n",
      " 0.34656161 0.21370629 0.1270852  0.02394834]\n",
      "Iteration  2900  - Curent h_hat: \n",
      " [0.05759586 0.09203099 0.04805265 0.05591468 0.02234731 0.00759877\n",
      " 0.34878635 0.21729516 0.12725255 0.02312568]\n",
      "Iteration  3000  - Curent h_hat: \n",
      " [0.05720061 0.09273765 0.04839904 0.0559731  0.02232778 0.00752184\n",
      " 0.33735853 0.22493111 0.13062991 0.02292043]\n",
      "Iteration  3100  - Curent h_hat: \n",
      " [0.05628158 0.0934692  0.04726862 0.05531998 0.02200915 0.00741375\n",
      " 0.34338083 0.2251527  0.1274643  0.02223988]\n",
      "Iteration  3200  - Curent h_hat: \n",
      " [0.05519395 0.0935225  0.0467736  0.05461074 0.02158056 0.00719667\n",
      " 0.34603052 0.22267416 0.13076769 0.0216496 ]\n",
      "Iteration  3300  - Curent h_hat: \n",
      " [0.05466862 0.0934191  0.04672725 0.05431154 0.02136382 0.00707936\n",
      " 0.34590902 0.22015676 0.13507348 0.02129105]\n",
      "Iteration  3400  - Curent h_hat: \n",
      " [0.05426183 0.09360803 0.04693859 0.05510218 0.02106588 0.00698098\n",
      " 0.3495503  0.22122003 0.13028542 0.02098676]\n",
      "Iteration  3500  - Curent h_hat: \n",
      " [0.05383316 0.09422994 0.04679129 0.05491119 0.02100185 0.00704923\n",
      " 0.34856801 0.22753712 0.12550604 0.02057217]\n",
      "Iteration  3600  - Curent h_hat: \n",
      " [0.05331705 0.09508641 0.04646019 0.05536624 0.02094525 0.00689967\n",
      " 0.35219794 0.22202108 0.12745409 0.02025206]\n",
      "Iteration  3700  - Curent h_hat: \n",
      " [0.05265226 0.09494588 0.04602275 0.05515396 0.02067206 0.00674586\n",
      " 0.3533294  0.22143124 0.1292309  0.01981568]\n",
      "Iteration  3800  - Curent h_hat: \n",
      " [0.05202408 0.09422264 0.04607033 0.0548611  0.02062274 0.00661471\n",
      " 0.35127024 0.22085327 0.13403348 0.01942739]\n",
      "Iteration  3900  - Curent h_hat: \n",
      " [0.0517018  0.09468735 0.04617822 0.05517096 0.02030947 0.00660005\n",
      " 0.34065189 0.22622055 0.13932084 0.01915888]\n",
      "Iteration  4000  - Curent h_hat: \n",
      " [0.05127491 0.09477856 0.0455354  0.05522158 0.02017536 0.00661474\n",
      " 0.33561596 0.23128983 0.1405941  0.01889957]\n",
      "Iteration  4100  - Curent h_hat: \n",
      " [0.05079319 0.09462409 0.04591331 0.05534151 0.0198884  0.00651003\n",
      " 0.33381313 0.22787741 0.14661745 0.01862149]\n",
      "Iteration  4200  - Curent h_hat: \n",
      " [0.05037642 0.09501352 0.04570035 0.05498729 0.01988616 0.00634362\n",
      " 0.33935369 0.22919256 0.14090977 0.01823661]\n",
      "Iteration  4300  - Curent h_hat: \n",
      " [0.05010763 0.09446377 0.04589952 0.0551125  0.01994849 0.00635374\n",
      " 0.33671619 0.2288815  0.14463129 0.01788539]\n",
      "Iteration  4400  - Curent h_hat: \n",
      " [0.05000498 0.09635033 0.0456735  0.05553172 0.0199005  0.0063257\n",
      " 0.33069614 0.23156343 0.14618325 0.01777046]\n",
      "Iteration  4500  - Curent h_hat: \n",
      " [0.04920258 0.09553473 0.04501539 0.05531806 0.01959042 0.00618565\n",
      " 0.33100894 0.23851542 0.14225361 0.01737521]\n",
      "Iteration  4600  - Curent h_hat: \n",
      " [0.04835662 0.09520704 0.04471903 0.05473585 0.01931409 0.00606171\n",
      " 0.34323362 0.23245245 0.13907152 0.01684807]\n",
      "Iteration  4700  - Curent h_hat: \n",
      " [0.04779422 0.09570066 0.04469963 0.05407347 0.01912131 0.00592213\n",
      " 0.34245559 0.23408671 0.13954058 0.0166057 ]\n",
      "Iteration  4800  - Curent h_hat: \n",
      " [0.0476633  0.09655947 0.04535433 0.05394213 0.01925754 0.00582694\n",
      " 0.34184392 0.23167232 0.14143204 0.01644802]\n",
      "Iteration  4900  - Curent h_hat: \n",
      " [0.04695562 0.09538332 0.04535723 0.05334864 0.0188351  0.00579886\n",
      " 0.35352162 0.22341532 0.14131151 0.01607279]\n"
     ]
    }
   ],
   "source": [
    "t0 = time.time()\n",
    "h_hat1 = cytopt_desasc(X_s=X_source, X_t=X_target, Lab_source=Lab_source, eps=eps, n_out=n_it_grad,\n",
    "                     n_stoc=n_it_sto, step_grad=pas_grad)[0]\n",
    "\n",
    "elapsed_time = time.time() - t0"
   ]
  },
  {
   "cell_type": "code",
   "execution_count": 38,
   "metadata": {},
   "outputs": [
    {
     "name": "stdout",
     "output_type": "stream",
     "text": [
      "Elapsed_time : 2.3069684147834777 mins\n"
     ]
    }
   ],
   "source": [
    "print('Elapsed_time :', elapsed_time/60, 'mins')"
   ]
  },
  {
   "cell_type": "markdown",
   "metadata": {},
   "source": [
    "##### Minmax swapping procedure"
   ]
  },
  {
   "cell_type": "markdown",
   "metadata": {},
   "source": [
    "parameters setting for the second procedure"
   ]
  },
  {
   "cell_type": "code",
   "execution_count": 39,
   "metadata": {},
   "outputs": [],
   "source": [
    "eps = 0.0001\n",
    "lbd = 0.0001\n",
    "n_iter = 10000\n",
    "step_grad = 5\n",
    "power = 0.99"
   ]
  },
  {
   "cell_type": "code",
   "execution_count": 40,
   "metadata": {},
   "outputs": [],
   "source": [
    "t0 = time.time()\n",
    "results = cytopt_minmax(X_source, X_target, Lab_source, eps=eps, lbd=lbd, n_iter=n_iter,\n",
    "                  step=step_grad, power=power, theta_true=0, monitoring=False)\n",
    "elapsed_time = time.time() - t0"
   ]
  },
  {
   "cell_type": "code",
   "execution_count": 41,
   "metadata": {},
   "outputs": [
    {
     "name": "stdout",
     "output_type": "stream",
     "text": [
      "Elapsed time :  0.3884031057357788 Mins\n"
     ]
    }
   ],
   "source": [
    "print('Elapsed time : ',elapsed_time/60, 'Mins')"
   ]
  },
  {
   "cell_type": "code",
   "execution_count": 42,
   "metadata": {},
   "outputs": [],
   "source": [
    "h_hat2 = results[0]"
   ]
  },
  {
   "cell_type": "markdown",
   "metadata": {},
   "source": [
    "##### Results"
   ]
  },
  {
   "cell_type": "code",
   "execution_count": 43,
   "metadata": {},
   "outputs": [],
   "source": [
    "Proportion = np.hstack((h_hat1, h_hat2, h_true))\n",
    "Classes = np.tile(np.arange(1,11),3)\n",
    "Methode = np.repeat(['CytOpt_DesAsc', 'CytOpt_Minmax', 'Manual'], 10)\n",
    "df_res1 = pd.DataFrame({'Proportions':Proportion, 'Classes':Classes, 'Methode':Methode})"
   ]
  },
  {
   "cell_type": "code",
   "execution_count": 44,
   "metadata": {},
   "outputs": [
    {
     "data": {
      "text/plain": [
       "(array([0.  , 0.05, 0.1 , 0.15, 0.2 , 0.25, 0.3 , 0.35, 0.4 ]),\n",
       " [Text(0, 0, ''),\n",
       "  Text(0, 0, ''),\n",
       "  Text(0, 0, ''),\n",
       "  Text(0, 0, ''),\n",
       "  Text(0, 0, ''),\n",
       "  Text(0, 0, ''),\n",
       "  Text(0, 0, ''),\n",
       "  Text(0, 0, ''),\n",
       "  Text(0, 0, '')])"
      ]
     },
     "execution_count": 44,
     "metadata": {},
     "output_type": "execute_result"
    },
    {
     "data": {
      "image/png": "[encoded data removed]",
      "text/plain": [
       "<Figure size 576x360 with 1 Axes>"
      ]
     },
     "metadata": {},
     "output_type": "display_data"
    }
   ],
   "source": [
    "plt.figure(figsize=(8,5))\n",
    "sns.barplot(x='Classes', y='Proportions', hue='Methode', data=df_res1,\n",
    "           palette=['darkgreen', 'lime', 'lightcoral'])\n",
    "plt.title('Stanford3C :  CytOpt estimation and Manual estimation', size=16)\n",
    "plt.legend(loc = 'upper left', fontsize=14)\n",
    "plt.xlabel('Classes', size=14)\n",
    "plt.ylabel('Proportions', size=14)\n",
    "plt.ylim(0,0.4)\n",
    "plt.xticks(fontsize=14)\n",
    "plt.yticks(fontsize=14)\n",
    "#plt.savefig('Barplot_Stan3C_prepocessing.eps', format='eps')"
   ]
  },
  {
   "cell_type": "markdown",
   "metadata": {},
   "source": [
    "#### Target Data : Miami3A"
   ]
  },
  {
   "cell_type": "code",
   "execution_count": 45,
   "metadata": {},
   "outputs": [],
   "source": [
    "X_target = np.asarray(Miami3A_values)\n",
    "X_target = X_target * (X_target > 0)\n",
    "X_target = scaler.fit_transform(X_target)\n",
    "Lab_target = np.asarray(Miami3A_clust['x'])"
   ]
  },
  {
   "cell_type": "markdown",
   "metadata": {},
   "source": [
    "Computation of the benchmark class proportions"
   ]
  },
  {
   "cell_type": "code",
   "execution_count": 46,
   "metadata": {},
   "outputs": [],
   "source": [
    "h_true = np.zeros(10)\n",
    "for k in range(10):\n",
    "    h_true[k] = np.sum(Lab_target == k+1)/len(Lab_target)"
   ]
  },
  {
   "cell_type": "markdown",
   "metadata": {},
   "source": [
    "##### Descent-ascent procedure"
   ]
  },
  {
   "cell_type": "code",
   "execution_count": 47,
   "metadata": {},
   "outputs": [
    {
     "name": "stdout",
     "output_type": "stream",
     "text": [
      "\n",
      " Epsilon:  0.0001\n",
      "Iteration  0  - Curent h_hat: \n",
      " [0.10034342 0.10038997 0.10034505 0.10029524 0.10003083 0.09726156\n",
      " 0.10038609 0.10041905 0.10055485 0.09997393]\n",
      "Iteration  100  - Curent h_hat: \n",
      " [0.10821326 0.11087159 0.11018662 0.10583826 0.08978991 0.03809828\n",
      " 0.11660131 0.11853913 0.11089828 0.09096337]\n",
      "Iteration  200  - Curent h_hat: \n",
      " [0.10912313 0.11454477 0.11220826 0.10367729 0.07810405 0.02784179\n",
      " 0.12681169 0.13187966 0.11369425 0.08211511]\n",
      "Iteration  300  - Curent h_hat: \n",
      " [0.1081049  0.11625605 0.11146555 0.10079088 0.07027149 0.02282162\n",
      " 0.1365782  0.14463974 0.11493887 0.07413271]\n",
      "Iteration  400  - Curent h_hat: \n",
      " [0.10596231 0.11640047 0.11147426 0.09706003 0.06443226 0.01965002\n",
      " 0.14543851 0.15834743 0.11375001 0.06748473]\n",
      "Iteration  500  - Curent h_hat: \n",
      " [0.10307174 0.11609347 0.10992841 0.09286801 0.05915945 0.01742437\n",
      " 0.15315049 0.17016833 0.1126272  0.06550853]\n",
      "Iteration  600  - Curent h_hat: \n",
      " [0.09996584 0.11490793 0.10948589 0.08843807 0.05531469 0.01568024\n",
      " 0.16041711 0.1862287  0.10855704 0.0610045 ]\n",
      "Iteration  700  - Curent h_hat: \n",
      " [0.09641904 0.11342131 0.1063406  0.08413555 0.05242409 0.01429923\n",
      " 0.16935629 0.19947112 0.1058252  0.05830757]\n",
      "Iteration  800  - Curent h_hat: \n",
      " [0.09281938 0.11081202 0.10548704 0.08056227 0.04952053 0.01314454\n",
      " 0.17467857 0.21466985 0.10300745 0.05529836]\n",
      "Iteration  900  - Curent h_hat: \n",
      " [0.08927134 0.108971   0.10153685 0.0774881  0.04657621 0.01215827\n",
      " 0.18082364 0.22900029 0.10169876 0.05247554]\n",
      "Iteration  1000  - Curent h_hat: \n",
      " [0.08593043 0.10702591 0.10152863 0.07390979 0.04512834 0.01133585\n",
      " 0.18955249 0.23738498 0.09876776 0.04943581]\n",
      "Iteration  1100  - Curent h_hat: \n",
      " [0.0825418  0.10526467 0.09983706 0.07083024 0.04309778 0.01060238\n",
      " 0.1943198  0.24977256 0.09676623 0.04696748]\n",
      "Iteration  1200  - Curent h_hat: \n",
      " [0.07965836 0.10378349 0.100233   0.06823342 0.0410663  0.0099786\n",
      " 0.20144794 0.25566093 0.09535875 0.04457921]\n",
      "Iteration  1300  - Curent h_hat: \n",
      " [0.07657864 0.1014934  0.0974516  0.06557219 0.03887057 0.00938867\n",
      " 0.20715438 0.26699446 0.09379908 0.04269701]\n",
      "Iteration  1400  - Curent h_hat: \n",
      " [0.07373027 0.09962438 0.09680087 0.06309699 0.03768844 0.00890169\n",
      " 0.21159905 0.27486422 0.09223926 0.04145483]\n",
      "Iteration  1500  - Curent h_hat: \n",
      " [0.0712759  0.0982213  0.09429526 0.06124248 0.03670121 0.00846825\n",
      " 0.21679236 0.28229326 0.08995048 0.04075952]\n",
      "Iteration  1600  - Curent h_hat: \n",
      " [0.06901521 0.09687542 0.09551394 0.05904354 0.03560255 0.00812754\n",
      " 0.21819735 0.28788806 0.08969237 0.04004402]\n",
      "Iteration  1700  - Curent h_hat: \n",
      " [0.06662759 0.09563932 0.09481472 0.05712584 0.03405255 0.00773676\n",
      " 0.22370955 0.29430137 0.08766309 0.03832922]\n",
      "Iteration  1800  - Curent h_hat: \n",
      " [0.0646937  0.09391789 0.09507971 0.05569096 0.03320516 0.00743602\n",
      " 0.23053803 0.29373553 0.08791216 0.03779083]\n",
      "Iteration  1900  - Curent h_hat: \n",
      " [0.06264972 0.09265175 0.09431766 0.05425998 0.03179534 0.00715402\n",
      " 0.23060742 0.30148647 0.08807392 0.03700373]\n",
      "Iteration  2000  - Curent h_hat: \n",
      " [0.06112659 0.09145518 0.09531887 0.05317673 0.03152284 0.00693752\n",
      " 0.2335829  0.30185936 0.0883316  0.03668842]\n",
      "Iteration  2100  - Curent h_hat: \n",
      " [0.05962632 0.09067174 0.09455813 0.05199366 0.03053196 0.00672808\n",
      " 0.23167416 0.30719556 0.08966288 0.0373575 ]\n",
      "Iteration  2200  - Curent h_hat: \n",
      " [0.05873622 0.09051588 0.09628617 0.05157862 0.03047265 0.00658807\n",
      " 0.2423083  0.294658   0.09075062 0.03810548]\n",
      "Iteration  2300  - Curent h_hat: \n",
      " [0.0575035  0.08998272 0.09559552 0.0507168  0.02992565 0.00642149\n",
      " 0.23982881 0.29907962 0.09233308 0.03861281]\n",
      "Iteration  2400  - Curent h_hat: \n",
      " [0.05650509 0.09020795 0.09925656 0.05030915 0.02962072 0.00628739\n",
      " 0.23908509 0.29768673 0.09179071 0.03925061]\n",
      "Iteration  2500  - Curent h_hat: \n",
      " [0.0549526  0.08973406 0.09826683 0.04879329 0.02899951 0.00608667\n",
      " 0.23936626 0.30458765 0.09014113 0.03907201]\n",
      "Iteration  2600  - Curent h_hat: \n",
      " [0.05349961 0.08840946 0.09560123 0.04777507 0.0284563  0.00589171\n",
      " 0.24376119 0.30779976 0.08954672 0.03925896]\n",
      "Iteration  2700  - Curent h_hat: \n",
      " [0.05208682 0.08755816 0.0923173  0.04677543 0.02769441 0.00568883\n",
      " 0.25413841 0.30796342 0.08669943 0.0390778 ]\n",
      "Iteration  2800  - Curent h_hat: \n",
      " [0.05063678 0.08740217 0.09066912 0.04561975 0.02697147 0.00552779\n",
      " 0.25350985 0.31574099 0.08587331 0.03804877]\n",
      "Iteration  2900  - Curent h_hat: \n",
      " [0.049757   0.08697589 0.09245926 0.04482963 0.02649848 0.00540275\n",
      " 0.25101073 0.31791415 0.08634748 0.03880463]\n",
      "Iteration  3000  - Curent h_hat: \n",
      " [0.04894228 0.08710283 0.09405473 0.0445519  0.02616763 0.00527896\n",
      " 0.24785996 0.32080267 0.08691185 0.0383272 ]\n",
      "Iteration  3100  - Curent h_hat: \n",
      " [0.04794223 0.08700918 0.09725461 0.04393702 0.02529181 0.00514171\n",
      " 0.2568382  0.31459787 0.0837187  0.03826867]\n",
      "Iteration  3200  - Curent h_hat: \n",
      " [0.04692825 0.08652673 0.09944849 0.04341764 0.02484614 0.0050144\n",
      " 0.25536153 0.31743645 0.0835118  0.03750857]\n",
      "Iteration  3300  - Curent h_hat: \n",
      " [0.04645854 0.08712221 0.10197088 0.04313406 0.02455261 0.0049437\n",
      " 0.25191851 0.31572509 0.08526476 0.03890965]\n",
      "Iteration  3400  - Curent h_hat: \n",
      " [0.04601461 0.08729426 0.10275651 0.0428979  0.02419148 0.00486693\n",
      " 0.25791053 0.3074922  0.08620386 0.04037171]\n",
      "Iteration  3500  - Curent h_hat: \n",
      " [0.04524127 0.08730666 0.10092238 0.04256184 0.02367274 0.00475975\n",
      " 0.25891843 0.30924288 0.08652663 0.04084743]\n",
      "Iteration  3600  - Curent h_hat: \n",
      " [0.04440871 0.08812065 0.09800366 0.0417298  0.02313031 0.00465331\n",
      " 0.25400909 0.31549363 0.08971556 0.04073528]\n",
      "Iteration  3700  - Curent h_hat: \n",
      " [0.04377768 0.0895463  0.10121207 0.04176947 0.02288129 0.00456538\n",
      " 0.25523722 0.31488649 0.08524424 0.04087986]\n",
      "Iteration  3800  - Curent h_hat: \n",
      " [0.04290818 0.08999054 0.10093727 0.04086149 0.0222335  0.00445444\n",
      " 0.24878217 0.3240016  0.08522351 0.04060729]\n",
      "Iteration  3900  - Curent h_hat: \n",
      " [0.0421283  0.08905055 0.09826484 0.04019608 0.02179323 0.00436839\n",
      " 0.25073201 0.32541223 0.08600863 0.04204575]\n",
      "Iteration  4000  - Curent h_hat: \n",
      " [0.04151195 0.08891303 0.10178875 0.03959809 0.02162484 0.00430003\n",
      " 0.25662193 0.31740908 0.08571371 0.04251859]\n",
      "Iteration  4100  - Curent h_hat: \n",
      " [0.04121025 0.08914171 0.10413708 0.03935928 0.02154916 0.00426364\n",
      " 0.26159503 0.30628904 0.08765445 0.04480036]\n",
      "Iteration  4200  - Curent h_hat: \n",
      " [0.04095518 0.09085057 0.10609511 0.03921135 0.02146075 0.00421861\n",
      " 0.26765789 0.29434025 0.08995664 0.04525364]\n",
      "Iteration  4300  - Curent h_hat: \n",
      " [0.04031614 0.0924542  0.10453977 0.03889878 0.02119265 0.00412523\n",
      " 0.26492177 0.30058965 0.08948837 0.04347343]\n",
      "Iteration  4400  - Curent h_hat: \n",
      " [0.03954982 0.09138237 0.10568277 0.03847663 0.02061579 0.00405035\n",
      " 0.25949356 0.30737279 0.09049656 0.04287935]\n",
      "Iteration  4500  - Curent h_hat: \n",
      " [0.03866055 0.09192773 0.10182338 0.03789279 0.01997507 0.00394736\n",
      " 0.24932087 0.32490457 0.08836315 0.04318453]\n",
      "Iteration  4600  - Curent h_hat: \n",
      " [0.03801691 0.09188002 0.099889   0.03759539 0.01957632 0.00387434\n",
      " 0.25324638 0.32413715 0.08789326 0.04389125]\n",
      "Iteration  4700  - Curent h_hat: \n",
      " [0.03766703 0.09262835 0.09990057 0.03765549 0.01957017 0.003819\n",
      " 0.25226668 0.32459482 0.08849906 0.04339884]\n",
      "Iteration  4800  - Curent h_hat: \n",
      " [0.03726504 0.09317122 0.09735381 0.03757176 0.01977173 0.00376905\n",
      " 0.24931005 0.32640728 0.0925258  0.04285427]\n",
      "Iteration  4900  - Curent h_hat: \n",
      " [0.03703924 0.09434111 0.09704644 0.0375051  0.01977319 0.00373417\n",
      " 0.24483401 0.32742783 0.09386073 0.04443818]\n"
     ]
    }
   ],
   "source": [
    "t0 = time.time()\n",
    "h_hat1 = cytopt_desasc(X_s=X_source, X_t=X_target, Lab_source=Lab_source, eps=eps, n_out=n_it_grad,\n",
    "                     n_stoc=n_it_sto, step_grad=pas_grad)[0]\n",
    "elapsed_time = time.time() - t0"
   ]
  },
  {
   "cell_type": "code",
   "execution_count": 48,
   "metadata": {},
   "outputs": [
    {
     "name": "stdout",
     "output_type": "stream",
     "text": [
      "Elapsed_time : 2.4264670332272846 mins\n"
     ]
    }
   ],
   "source": [
    "print('Elapsed_time :', elapsed_time/60, 'mins')"
   ]
  },
  {
   "cell_type": "markdown",
   "metadata": {},
   "source": [
    "##### Minmax swapping procedure"
   ]
  },
  {
   "cell_type": "code",
   "execution_count": 49,
   "metadata": {},
   "outputs": [],
   "source": [
    "t0 = time.time()\n",
    "results = cytopt_minmax(X_source, X_target, Lab_source, eps=eps, lbd=lbd, n_iter=n_iter,\n",
    "                  step=step_grad, power=power, theta_true=0, monitoring=False)\n",
    "elapsed_time = time.time() - t0"
   ]
  },
  {
   "cell_type": "code",
   "execution_count": 50,
   "metadata": {},
   "outputs": [
    {
     "name": "stdout",
     "output_type": "stream",
     "text": [
      "Elapsed time :  0.47154699166615804 Mins\n"
     ]
    }
   ],
   "source": [
    "print('Elapsed time : ',elapsed_time/60, 'Mins')"
   ]
  },
  {
   "cell_type": "code",
   "execution_count": 51,
   "metadata": {},
   "outputs": [],
   "source": [
    "h_hat2 = results[0]"
   ]
  },
  {
   "cell_type": "markdown",
   "metadata": {},
   "source": [
    "##### Results"
   ]
  },
  {
   "cell_type": "code",
   "execution_count": 52,
   "metadata": {},
   "outputs": [],
   "source": [
    "Proportion = np.hstack((h_hat1, h_hat2, h_true))\n",
    "Classes = np.tile(np.arange(1,11),3)\n",
    "Methode = np.repeat(['CytOpt_DesAsc', 'CytOpt_Minmax', 'Manual'], 10)\n",
    "df_res1 = pd.DataFrame({'Proportions':Proportion, 'Classes':Classes, 'Methode':Methode})"
   ]
  },
  {
   "cell_type": "code",
   "execution_count": 53,
   "metadata": {},
   "outputs": [
    {
     "data": {
      "text/plain": [
       "(array([0.  , 0.05, 0.1 , 0.15, 0.2 , 0.25, 0.3 , 0.35, 0.4 ]),\n",
       " [Text(0, 0, ''),\n",
       "  Text(0, 0, ''),\n",
       "  Text(0, 0, ''),\n",
       "  Text(0, 0, ''),\n",
       "  Text(0, 0, ''),\n",
       "  Text(0, 0, ''),\n",
       "  Text(0, 0, ''),\n",
       "  Text(0, 0, ''),\n",
       "  Text(0, 0, '')])"
      ]
     },
     "execution_count": 53,
     "metadata": {},
     "output_type": "execute_result"
    },
    {
     "data": {
      "image/png": "[encoded data removed]",
      "text/plain": [
       "<Figure size 576x360 with 1 Axes>"
      ]
     },
     "metadata": {},
     "output_type": "display_data"
    }
   ],
   "source": [
    "plt.figure(figsize=(8,5))\n",
    "sns.barplot(x='Classes', y='Proportions', hue='Methode', data=df_res1,\n",
    "           palette=['darkgreen', 'lime', 'lightcoral'])\n",
    "plt.title('Miami3A :  CytOpt estimation and Manual estimation', size=16)\n",
    "plt.legend(loc = 'upper left', fontsize=14)\n",
    "plt.xlabel('Classes', size=14)\n",
    "plt.ylabel('Proportions', size=14)\n",
    "plt.ylim(0,0.4)\n",
    "plt.xticks(fontsize=14)\n",
    "plt.yticks(fontsize=14)\n",
    "#plt.savefig('Barplot_Stan3C_prepocessing.eps', format='eps')"
   ]
  },
  {
   "cell_type": "markdown",
   "metadata": {},
   "source": [
    "##### Target data : UCLA2B"
   ]
  },
  {
   "cell_type": "code",
   "execution_count": 54,
   "metadata": {},
   "outputs": [],
   "source": [
    "X_target = np.asarray(Ucla2B_values)\n",
    "X_target = X_target * (X_target > 0)\n",
    "X_target = scaler.fit_transform(X_target)\n",
    "Lab_target = np.asarray(Ucla2B_clust['x'])"
   ]
  },
  {
   "cell_type": "markdown",
   "metadata": {},
   "source": [
    "Computation of the benchmark class proportions"
   ]
  },
  {
   "cell_type": "code",
   "execution_count": 55,
   "metadata": {},
   "outputs": [],
   "source": [
    "h_true = np.zeros(10)\n",
    "for k in range(10):\n",
    "    h_true[k] = np.sum(Lab_target == k+1)/len(Lab_target)"
   ]
  },
  {
   "cell_type": "markdown",
   "metadata": {},
   "source": [
    "##### Descent-ascent procedure"
   ]
  },
  {
   "cell_type": "code",
   "execution_count": 56,
   "metadata": {},
   "outputs": [
    {
     "name": "stdout",
     "output_type": "stream",
     "text": [
      "\n",
      " Epsilon:  0.0001\n",
      "Iteration  0  - Curent h_hat: \n",
      " [0.10031049 0.10032641 0.1002181  0.10039119 0.10019939 0.09720907\n",
      " 0.10035887 0.10030533 0.10030563 0.10037552]\n",
      "Iteration  100  - Curent h_hat: \n",
      " [0.11006188 0.11384786 0.10465016 0.10909889 0.09038128 0.04169976\n",
      " 0.11241885 0.11409718 0.11737193 0.08637222]\n",
      "Iteration  200  - Curent h_hat: \n",
      " [0.11276097 0.11944188 0.10295907 0.11227664 0.07991729 0.03251811\n",
      " 0.11769083 0.1214456  0.1243302  0.07665943]\n",
      "Iteration  300  - Curent h_hat: \n",
      " [0.11478359 0.12401585 0.09989725 0.11257613 0.07177955 0.02786145\n",
      " 0.12212284 0.12718685 0.13132442 0.06845208]\n",
      "Iteration  400  - Curent h_hat: \n",
      " [0.11528338 0.1283724  0.09761783 0.11121677 0.06645044 0.02357961\n",
      " 0.12525178 0.13259741 0.13786155 0.06176884]\n",
      "Iteration  500  - Curent h_hat: \n",
      " [0.11547796 0.13179743 0.0942961  0.11074422 0.06191866 0.02084563\n",
      " 0.1282598  0.13551673 0.14409738 0.05704609]\n",
      "Iteration  600  - Curent h_hat: \n",
      " [0.11557562 0.13539155 0.09081722 0.11087908 0.05868727 0.01970081\n",
      " 0.13139754 0.13850886 0.14556182 0.05348022]\n",
      "Iteration  700  - Curent h_hat: \n",
      " [0.1154241  0.1367526  0.08797641 0.10884843 0.0548531  0.01914942\n",
      " 0.13355983 0.14057838 0.15209069 0.05076704]\n",
      "Iteration  800  - Curent h_hat: \n",
      " [0.1147473  0.13909576 0.0851407  0.10810902 0.05298187 0.01848577\n",
      " 0.13602948 0.14336719 0.15368084 0.04836207]\n",
      "Iteration  900  - Curent h_hat: \n",
      " [0.1136294  0.14090984 0.08280087 0.10656828 0.05174415 0.0173757\n",
      " 0.13885    0.14570381 0.15567404 0.04674392]\n",
      "Iteration  1000  - Curent h_hat: \n",
      " [0.11283595 0.14417364 0.08086816 0.1056332  0.05092908 0.0168651\n",
      " 0.14102202 0.14822923 0.15429332 0.04515031]\n",
      "Iteration  1100  - Curent h_hat: \n",
      " [0.11257681 0.14630845 0.07907728 0.10466121 0.0494804  0.01649531\n",
      " 0.14196984 0.15086302 0.15558046 0.04298722]\n",
      "Iteration  1200  - Curent h_hat: \n",
      " [0.11174862 0.14716677 0.07710762 0.10397142 0.0488395  0.01617314\n",
      " 0.14396647 0.15369925 0.1559743  0.04135291]\n",
      "Iteration  1300  - Curent h_hat: \n",
      " [0.11158189 0.14851936 0.07534165 0.10353782 0.04786746 0.01609396\n",
      " 0.1459404  0.15461395 0.15647559 0.04002792]\n",
      "Iteration  1400  - Curent h_hat: \n",
      " [0.11012904 0.15019629 0.07358353 0.10160838 0.04654918 0.01550239\n",
      " 0.14823197 0.15608722 0.15926807 0.03884394]\n",
      "Iteration  1500  - Curent h_hat: \n",
      " [0.10922966 0.15199537 0.07229178 0.10087495 0.0459601  0.0147717\n",
      " 0.14812953 0.15849771 0.16060298 0.0376462 ]\n",
      "Iteration  1600  - Curent h_hat: \n",
      " [0.10861559 0.15311031 0.07157498 0.10004567 0.04513212 0.01477349\n",
      " 0.14774802 0.16056274 0.1618436  0.03659348]\n",
      "Iteration  1700  - Curent h_hat: \n",
      " [0.10739054 0.15308728 0.069987   0.09971339 0.04479557 0.01404861\n",
      " 0.1499499  0.16064456 0.16487909 0.03550406]\n",
      "Iteration  1800  - Curent h_hat: \n",
      " [0.10718006 0.15371562 0.06848987 0.09856501 0.04438619 0.01390364\n",
      " 0.15075718 0.16279213 0.16558498 0.03462532]\n",
      "Iteration  1900  - Curent h_hat: \n",
      " [0.10610814 0.15560312 0.06742421 0.09803008 0.04345153 0.0136992\n",
      " 0.15160678 0.16545726 0.16512964 0.03349004]\n",
      "Iteration  2000  - Curent h_hat: \n",
      " [0.10533002 0.15822775 0.06665809 0.09567172 0.04272817 0.01310213\n",
      " 0.15182609 0.16776948 0.16623791 0.03244864]\n",
      "Iteration  2100  - Curent h_hat: \n",
      " [0.10395032 0.15976205 0.066019   0.09541017 0.04186129 0.01293968\n",
      " 0.15413954 0.16975633 0.16448668 0.03167495]\n",
      "Iteration  2200  - Curent h_hat: \n",
      " [0.1033422  0.1612819  0.06514755 0.0945459  0.04088069 0.01292712\n",
      " 0.15396658 0.17060117 0.16650364 0.03080324]\n",
      "Iteration  2300  - Curent h_hat: \n",
      " [0.10252191 0.16098425 0.06438765 0.09410567 0.03969436 0.01272604\n",
      " 0.15410523 0.1718697  0.16965305 0.02995213]\n",
      "Iteration  2400  - Curent h_hat: \n",
      " [0.10226521 0.16317399 0.06331627 0.09356525 0.03855561 0.01263419\n",
      " 0.15435649 0.17404561 0.1688793  0.02920808]\n",
      "Iteration  2500  - Curent h_hat: \n",
      " [0.10195913 0.16501426 0.06269765 0.09244543 0.0382153  0.01276953\n",
      " 0.15634791 0.17486871 0.16698932 0.02869277]\n",
      "Iteration  2600  - Curent h_hat: \n",
      " [0.10111829 0.16625689 0.06172705 0.09198929 0.0377382  0.01266335\n",
      " 0.15784118 0.1758693  0.16679731 0.02799913]\n",
      "Iteration  2700  - Curent h_hat: \n",
      " [0.10109604 0.16631583 0.06127357 0.09107722 0.03745812 0.01237154\n",
      " 0.15895639 0.17729765 0.16674789 0.02740576]\n",
      "Iteration  2800  - Curent h_hat: \n",
      " [0.10049308 0.16566119 0.06088725 0.09086897 0.03743651 0.01233108\n",
      " 0.15919132 0.17648939 0.16978739 0.02685381]\n",
      "Iteration  2900  - Curent h_hat: \n",
      " [0.09995627 0.16485695 0.06070118 0.0922731  0.0375313  0.01203471\n",
      " 0.15815488 0.17688186 0.17135556 0.0262542 ]\n",
      "Iteration  3000  - Curent h_hat: \n",
      " [0.09966964 0.16584374 0.06077897 0.09188875 0.03728789 0.01178564\n",
      " 0.1600569  0.17602202 0.17090512 0.02576131]\n",
      "Iteration  3100  - Curent h_hat: \n",
      " [0.099356   0.16676764 0.06029826 0.09207032 0.03677906 0.01173605\n",
      " 0.16015465 0.17690012 0.17066051 0.02527739]\n",
      "Iteration  3200  - Curent h_hat: \n",
      " [0.09836525 0.16648322 0.05921509 0.09136491 0.03592946 0.01165504\n",
      " 0.15981679 0.17886612 0.17362058 0.02468354]\n",
      "Iteration  3300  - Curent h_hat: \n",
      " [0.09778932 0.16782119 0.05859563 0.09097629 0.03573811 0.01154644\n",
      " 0.15950768 0.18053625 0.17332478 0.02416432]\n",
      "Iteration  3400  - Curent h_hat: \n",
      " [0.09737503 0.16955243 0.05825578 0.09113854 0.03510642 0.01171779\n",
      " 0.16019837 0.18194025 0.17095573 0.02375966]\n",
      "Iteration  3500  - Curent h_hat: \n",
      " [0.09710099 0.16975018 0.05761208 0.09070779 0.03486585 0.01162085\n",
      " 0.16054061 0.18227083 0.1721303  0.02340051]\n",
      "Iteration  3600  - Curent h_hat: \n",
      " [0.09699035 0.16969572 0.0575489  0.09270852 0.03476605 0.01138449\n",
      " 0.16015085 0.185165   0.16863429 0.02295584]\n",
      "Iteration  3700  - Curent h_hat: \n",
      " [0.0964736  0.17023807 0.05749267 0.09312738 0.03454448 0.01136676\n",
      " 0.15915153 0.18678892 0.16823922 0.02257737]\n",
      "Iteration  3800  - Curent h_hat: \n",
      " [0.09647045 0.17065432 0.05706612 0.09321885 0.03446551 0.01122426\n",
      " 0.15999303 0.1883337  0.16634527 0.02222849]\n",
      "Iteration  3900  - Curent h_hat: \n",
      " [0.09626605 0.17008874 0.05717489 0.09353996 0.03428165 0.0113463\n",
      " 0.15849106 0.18475566 0.17219635 0.02185935]\n",
      "Iteration  4000  - Curent h_hat: \n",
      " [0.09539786 0.16828033 0.05608791 0.09206977 0.034262   0.0112957\n",
      " 0.15814771 0.18277651 0.18023157 0.02145065]\n",
      "Iteration  4100  - Curent h_hat: \n",
      " [0.0953638  0.16907747 0.0562284  0.09300676 0.034117   0.01117382\n",
      " 0.15816339 0.18643009 0.17526809 0.02117118]\n",
      "Iteration  4200  - Curent h_hat: \n",
      " [0.09523408 0.16938457 0.05573588 0.09179032 0.03387961 0.01108982\n",
      " 0.15690663 0.18255033 0.18251216 0.0209166 ]\n",
      "Iteration  4300  - Curent h_hat: \n",
      " [0.09496606 0.17096567 0.05530019 0.09196829 0.03340903 0.01131629\n",
      " 0.15740597 0.18228074 0.18163389 0.02075387]\n",
      "Iteration  4400  - Curent h_hat: \n",
      " [0.09402188 0.17014019 0.05455428 0.09115943 0.03322805 0.01129955\n",
      " 0.15956486 0.18225315 0.18336773 0.02041087]\n",
      "Iteration  4500  - Curent h_hat: \n",
      " [0.09339483 0.16973326 0.0542577  0.09086558 0.03334498 0.01110514\n",
      " 0.16224774 0.1821026  0.18286398 0.02008419]\n",
      "Iteration  4600  - Curent h_hat: \n",
      " [0.09352622 0.17160263 0.05413858 0.09204664 0.03346421 0.01102922\n",
      " 0.16206935 0.18288892 0.17938402 0.0198502 ]\n",
      "Iteration  4700  - Curent h_hat: \n",
      " [0.0935736  0.17171559 0.05375633 0.09276211 0.03323741 0.01108266\n",
      " 0.16269207 0.18288162 0.17870901 0.01958959]\n",
      "Iteration  4800  - Curent h_hat: \n",
      " [0.09291329 0.17233351 0.05392824 0.09149716 0.03349225 0.01118265\n",
      " 0.1612295  0.18587697 0.17809916 0.01944724]\n",
      "Iteration  4900  - Curent h_hat: \n",
      " [0.09228663 0.17424624 0.05362197 0.0912854  0.03352614 0.01109869\n",
      " 0.16224873 0.18831599 0.17412965 0.01924058]\n"
     ]
    }
   ],
   "source": [
    "t0 = time.time()\n",
    "h_hat1 = cytopt_desasc(X_s=X_source, X_t=X_target, Lab_source=Lab_source, eps=eps, n_out=n_it_grad,\n",
    "                     n_stoc=n_it_sto, step_grad=pas_grad)[0]\n",
    "elapsed_time = time.time() - t0"
   ]
  },
  {
   "cell_type": "code",
   "execution_count": 57,
   "metadata": {},
   "outputs": [
    {
     "name": "stdout",
     "output_type": "stream",
     "text": [
      "Elapsed_time : 2.65447868903478 mins\n"
     ]
    }
   ],
   "source": [
    "print('Elapsed_time :', elapsed_time/60, 'mins')"
   ]
  },
  {
   "cell_type": "markdown",
   "metadata": {},
   "source": [
    "##### Minmax swapping procedure"
   ]
  },
  {
   "cell_type": "code",
   "execution_count": 58,
   "metadata": {},
   "outputs": [],
   "source": [
    "t0 = time.time()\n",
    "results = cytopt_minmax(X_source, X_target, Lab_source, eps=eps, lbd=lbd, n_iter=n_iter,\n",
    "                  step=step_grad, power=power, theta_true=0, monitoring=False)\n",
    "elapsed_time = time.time() - t0"
   ]
  },
  {
   "cell_type": "code",
   "execution_count": 59,
   "metadata": {},
   "outputs": [
    {
     "name": "stdout",
     "output_type": "stream",
     "text": [
      "Elapsed time :  0.42825353145599365 Mins\n"
     ]
    }
   ],
   "source": [
    "print('Elapsed time : ',elapsed_time/60, 'Mins')"
   ]
  },
  {
   "cell_type": "code",
   "execution_count": 60,
   "metadata": {},
   "outputs": [],
   "source": [
    "h_hat2 = results[0]"
   ]
  },
  {
   "cell_type": "markdown",
   "metadata": {},
   "source": [
    "##### Results"
   ]
  },
  {
   "cell_type": "code",
   "execution_count": 61,
   "metadata": {},
   "outputs": [],
   "source": [
    "Proportion = np.hstack((h_hat1, h_hat2, h_true))\n",
    "Classes = np.tile(np.arange(1,11),3)\n",
    "Methode = np.repeat(['CytOpt_DesAsc', 'CytOpt_Minmax', 'Manual'], 10)\n",
    "df_res1 = pd.DataFrame({'Proportions':Proportion, 'Classes':Classes, 'Methode':Methode})"
   ]
  },
  {
   "cell_type": "code",
   "execution_count": 63,
   "metadata": {},
   "outputs": [
    {
     "data": {
      "text/plain": [
       "(array([0.   , 0.025, 0.05 , 0.075, 0.1  , 0.125, 0.15 , 0.175, 0.2  ]),\n",
       " [Text(0, 0, ''),\n",
       "  Text(0, 0, ''),\n",
       "  Text(0, 0, ''),\n",
       "  Text(0, 0, ''),\n",
       "  Text(0, 0, ''),\n",
       "  Text(0, 0, ''),\n",
       "  Text(0, 0, ''),\n",
       "  Text(0, 0, ''),\n",
       "  Text(0, 0, '')])"
      ]
     },
     "execution_count": 63,
     "metadata": {},
     "output_type": "execute_result"
    },
    {
     "data": {
      "image/png": "[encoded data removed]",
      "text/plain": [
       "<Figure size 576x360 with 1 Axes>"
      ]
     },
     "metadata": {},
     "output_type": "display_data"
    }
   ],
   "source": [
    "plt.figure(figsize=(8,5))\n",
    "sns.barplot(x='Classes', y='Proportions', hue='Methode', data=df_res1,\n",
    "           palette=['darkgreen', 'lime', 'lightcoral'])\n",
    "plt.title('Ucla2B :  CytOpt estimation and Manual estimation', size=16)\n",
    "plt.legend(loc = 'upper left', fontsize=14)\n",
    "plt.xlabel('Classes', size=14)\n",
    "plt.ylabel('Proportions', size=14)\n",
    "plt.ylim(0,0.25)\n",
    "plt.xticks(fontsize=14)\n",
    "plt.yticks(fontsize=14)"
   ]
  },
  {
   "cell_type": "code",
   "execution_count": null,
   "metadata": {},
   "outputs": [],
   "source": []
  }
 ],
 "metadata": {
  "kernelspec": {
   "display_name": "Python 3",
   "language": "python",
   "name": "python3"
  },
  "language_info": {
   "codemirror_mode": {
    "name": "ipython",
    "version": 3
   },
   "file_extension": ".py",
   "mimetype": "text/x-python",
   "name": "python",
   "nbconvert_exporter": "python",
   "pygments_lexer": "ipython3",
   "version": "3.8.10"
  }
 },
 "nbformat": 4,
 "nbformat_minor": 2
}
