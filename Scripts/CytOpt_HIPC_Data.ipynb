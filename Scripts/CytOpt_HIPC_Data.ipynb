{
 "cells": [
  {
   "cell_type": "markdown",
   "metadata": {},
   "source": [
    "## CytOpt on the HIPC Data"
   ]
  },
  {
   "cell_type": "markdown",
   "metadata": {},
   "source": [
    "In this notebook, we apply our method ${\\tt CytOpt}$ on various datasets of the HIPC panel. From our numerical experiments, the computation time to get an estimate of the class proportions with the descent-ascent procedure is between 10 and 20 minutes. With the minmax swapping procedure, this computation time is between 1 and 3 minutes."
   ]
  },
  {
   "cell_type": "markdown",
   "metadata": {},
   "source": [
    "##### How to try ${\\tt CytOpt}$ on other HIPC data sets.\n",
    "\n",
    "An HIPC data set has the following structure :\n",
    "\n",
    "xx_y_values : Cytometry measurements \n",
    "\n",
    "xx_y_clust : Corresponding manual clustering\n",
    "\n",
    "xx labels the center where the data analysis was performed.\n",
    "-replace xx by W2 for Stanford .\n",
    "-replace xx by D54 for NHLBI.\n",
    "-replace xx by FTV for Yale.\n",
    "-replace xx by IU for UCLA.\n",
    "-replace xx by O0 for CIMR.\n",
    "-replace xx by pw for Baylor.\n",
    "-replace xx by pM for Miami.\n",
    "\n",
    "y labels the patient and the replicate of the biological sample.\n",
    "-replace y by 1 for patient 1 replicate A (except for Baylor this replicate is not available).\n",
    "-replace y by 2 for patient 1 replicate B.\n",
    "-replace y by 3 for patient 1 replicate C.\n",
    "-replace y by 4 for patient 2 replicate A.\n",
    "-replace y by 5 for patient 2 replicate B.\n",
    "-replace y by 6 for patient 2 replicate C.\n",
    "-replace y by 7 for patient 3 replicate A.\n",
    "-replace y by 8 for patient 3 replicate B.\n",
    "-replace y by 9 for patient 3 replicate C.\n"
   ]
  },
  {
   "cell_type": "markdown",
   "metadata": {},
   "source": [
    "##### import modules and functions"
   ]
  },
  {
   "cell_type": "code",
   "execution_count": 1,
   "metadata": {},
   "outputs": [],
   "source": [
    "import numpy as np\n",
    "import pandas as pd\n",
    "import matplotlib.pyplot as plt\n",
    "import seaborn as sns\n",
    "import time\n",
    "from sklearn import preprocessing\n",
    "from sklearn.preprocessing import MinMaxScaler\n",
    "import sys\n",
    "sys.path.append(\"../Functions\")\n",
    "from Tools_CytOpt_Descent_Ascent import *\n",
    "from Tools_CytOpt_MinMax_Swapping import *"
   ]
  },
  {
   "cell_type": "code",
   "execution_count": 2,
   "metadata": {},
   "outputs": [],
   "source": [
    "sns.set()"
   ]
  },
  {
   "cell_type": "markdown",
   "metadata": {},
   "source": [
    "##### import data"
   ]
  },
  {
   "cell_type": "code",
   "execution_count": 3,
   "metadata": {},
   "outputs": [],
   "source": [
    "#Source Data\n",
    "\n",
    "Stanford1A_values = pd.read_csv('../Data/W2_1_values.csv',\n",
    "                                 usecols = np.arange(1,8))\n",
    "Stanford1A_clust = pd.read_csv('../Data/W2_1_clust.csv',\n",
    "                                usecols = [1])\n",
    "\n",
    "#Target Data\n",
    "\n",
    "Stanford3C_values = pd.read_csv('../Data/W2_9_values.csv',\n",
    "                                 usecols = np.arange(1,8))\n",
    "Stanford3C_clust = pd.read_csv('../Data/W2_9_clust.csv',\n",
    "                                usecols = [1])\n",
    "\n",
    "\n",
    "Miami3A_values = pd.read_csv('../Data/pM_7_values.csv', \n",
    "                             usecols = np.arange(1,8))\n",
    "Miami3A_clust = pd.read_csv('../Data/pM_7_clust.csv',\n",
    "                            usecols = [1])\n",
    "\n",
    "\n",
    "Ucla2B_values = pd.read_csv('../Data/IU_5_values.csv',\n",
    "                            usecols = np.arange(1,8))\n",
    "Ucla2B_clust = pd.read_csv('../Data/IU_5_clust.csv',\n",
    "                           usecols = [1])"
   ]
  },
  {
   "cell_type": "markdown",
   "metadata": {},
   "source": [
    "Preprocessing of the source data"
   ]
  },
  {
   "cell_type": "code",
   "execution_count": 4,
   "metadata": {},
   "outputs": [],
   "source": [
    "X_source = np.asarray(Stanford1A_values)\n",
    "X_source = X_source * (X_source > 0)\n",
    "scaler = MinMaxScaler()\n",
    "X_source = scaler.fit_transform(X_source)\n",
    "Lab_source = np.asarray(Stanford1A_clust['x'])"
   ]
  },
  {
   "cell_type": "markdown",
   "metadata": {},
   "source": [
    "#### Target data : Stanford3C"
   ]
  },
  {
   "cell_type": "markdown",
   "metadata": {},
   "source": [
    "Preprocessing of the target data"
   ]
  },
  {
   "cell_type": "code",
   "execution_count": 5,
   "metadata": {},
   "outputs": [],
   "source": [
    "X_target = np.asarray(Stanford3C_values)\n",
    "X_target = X_target * (X_target > 0)\n",
    "X_target = scaler.fit_transform(X_target)\n",
    "Lab_target = np.asarray(Stanford3C_clust['x'])"
   ]
  },
  {
   "cell_type": "markdown",
   "metadata": {},
   "source": [
    "Computation of the benchmark class proportions"
   ]
  },
  {
   "cell_type": "code",
   "execution_count": 6,
   "metadata": {},
   "outputs": [],
   "source": [
    "h_true = np.zeros(10)\n",
    "for k in range(10):\n",
    "    h_true[k] = np.sum(Lab_target == k+1)/len(Lab_target)"
   ]
  },
  {
   "cell_type": "markdown",
   "metadata": {},
   "source": [
    "##### Descent-ascent procedure"
   ]
  },
  {
   "cell_type": "markdown",
   "metadata": {},
   "source": [
    "Setting of the parameters for the descent-ascent procedure."
   ]
  },
  {
   "cell_type": "code",
   "execution_count": 7,
   "metadata": {},
   "outputs": [],
   "source": [
    "n_it_grad = 10000\n",
    "n_it_sto = 10\n",
    "pas_grad = 10\n",
    "eps=0.0005"
   ]
  },
  {
   "cell_type": "code",
   "execution_count": 8,
   "metadata": {
    "scrolled": true
   },
   "outputs": [
    {
     "name": "stdout",
     "output_type": "stream",
     "text": [
      "Iteration  0\n",
      "Curent h_hat\n",
      "[0.10008004 0.10047076 0.10133366 0.10080638 0.10239411 0.09178199\n",
      " 0.10024127 0.10138453 0.10048316 0.10102411]\n",
      "Iteration  1000\n",
      "Curent h_hat\n",
      "[0.05727869 0.09830888 0.05597627 0.05140782 0.02249358 0.00608797\n",
      " 0.34788939 0.23600051 0.09873446 0.02582243]\n",
      "Iteration  2000\n",
      "Curent h_hat\n",
      "[0.04697639 0.09257733 0.04712798 0.06156543 0.02062152 0.00486636\n",
      " 0.34497892 0.23937991 0.12165567 0.0202505 ]\n",
      "Iteration  3000\n",
      "Curent h_hat\n",
      "[0.04213164 0.08417275 0.0452143  0.05757365 0.01794533 0.0044631\n",
      " 0.4101178  0.2268823  0.09397528 0.01752386]\n",
      "Iteration  4000\n",
      "Curent h_hat\n",
      "[0.03689226 0.08821177 0.03928769 0.05043833 0.01527388 0.00365999\n",
      " 0.36965554 0.25778147 0.12333042 0.01546865]\n",
      "Iteration  5000\n",
      "Curent h_hat\n",
      "[0.03868853 0.10683086 0.04034771 0.05641319 0.01601106 0.00370785\n",
      " 0.33510844 0.23369563 0.15101068 0.01818606]\n",
      "Iteration  6000\n",
      "Curent h_hat\n",
      "[0.03735306 0.09640971 0.04585934 0.05198883 0.01489931 0.00332589\n",
      " 0.35824234 0.22908092 0.14538239 0.01745821]\n",
      "Iteration  7000\n",
      "Curent h_hat\n",
      "[0.03713428 0.11243384 0.04849963 0.0569642  0.01407623 0.00309473\n",
      " 0.35945422 0.22165013 0.12826274 0.01842999]\n",
      "Iteration  8000\n",
      "Curent h_hat\n",
      "[0.03926802 0.1208659  0.0499686  0.05610695 0.01374312 0.00293203\n",
      " 0.30662416 0.25112021 0.14142636 0.01794466]\n",
      "Iteration  9000\n",
      "Curent h_hat\n",
      "[0.03637631 0.10626532 0.0457481  0.05675918 0.01319744 0.00276548\n",
      " 0.3241268  0.25983047 0.13796716 0.01696376]\n"
     ]
    }
   ],
   "source": [
    "t0 = time.time()\n",
    "h_hat1 = cytopt_desas(n_it_grad, X_source, Lab_source, X_target, n_it_sto, pas_grad, eps)\n",
    "elapsed_time = time.time() - t0"
   ]
  },
  {
   "cell_type": "code",
   "execution_count": 9,
   "metadata": {},
   "outputs": [
    {
     "name": "stdout",
     "output_type": "stream",
     "text": [
      "Elapsed_time : 16.3784428079923 mins\n"
     ]
    }
   ],
   "source": [
    "print('Elapsed_time :', elapsed_time/60, 'mins')"
   ]
  },
  {
   "cell_type": "markdown",
   "metadata": {},
   "source": [
    "##### Minmax swapping procedure"
   ]
  },
  {
   "cell_type": "markdown",
   "metadata": {},
   "source": [
    "parameters setting for the second procedure"
   ]
  },
  {
   "cell_type": "code",
   "execution_count": 10,
   "metadata": {},
   "outputs": [],
   "source": [
    "lbd = 0.0001\n",
    "eps_two = 0.0001\n",
    "n_iter = 10000\n",
    "step_size = 5\n",
    "power = 0.99"
   ]
  },
  {
   "cell_type": "code",
   "execution_count": 11,
   "metadata": {},
   "outputs": [],
   "source": [
    "t0 = time.time()\n",
    "results = cytopt_minmax_monitor(lbd, eps_two, X_source, X_target, Lab_source, n_iter,\n",
    "                            h_true, step=step_size, power=power)\n",
    "elapsed_time = time.time() - t0"
   ]
  },
  {
   "cell_type": "code",
   "execution_count": 12,
   "metadata": {},
   "outputs": [
    {
     "name": "stdout",
     "output_type": "stream",
     "text": [
      "Elapsed time :  3.0415767629941306 Mins\n"
     ]
    }
   ],
   "source": [
    "print('Elapsed time : ',elapsed_time/60, 'Mins')"
   ]
  },
  {
   "cell_type": "code",
   "execution_count": 13,
   "metadata": {},
   "outputs": [],
   "source": [
    "h_hat2 = results[0]"
   ]
  },
  {
   "cell_type": "markdown",
   "metadata": {},
   "source": [
    "##### Results"
   ]
  },
  {
   "cell_type": "code",
   "execution_count": 14,
   "metadata": {},
   "outputs": [],
   "source": [
    "Proportion = np.hstack((h_hat1, h_hat2, h_true))\n",
    "Classes = np.tile(np.arange(1,11),3)\n",
    "Methode = np.repeat(['CytOpt_DesAsc', 'CytOpt_Minmax', 'Manual'], 10)\n",
    "df_res1 = pd.DataFrame({'Proportions':Proportion, 'Classes':Classes, 'Methode':Methode})"
   ]
  },
  {
   "cell_type": "code",
   "execution_count": 15,
   "metadata": {},
   "outputs": [
    {
     "data": {
      "text/plain": [
       "(array([0.  , 0.05, 0.1 , 0.15, 0.2 , 0.25, 0.3 , 0.35, 0.4 ]),\n",
       " <a list of 9 Text yticklabel objects>)"
      ]
     },
     "execution_count": 15,
     "metadata": {},
     "output_type": "execute_result"
    },
    {
     "data": {
      "image/png": "[encoded data removed]",
      "text/plain": [
       "<Figure size 576x360 with 1 Axes>"
      ]
     },
     "metadata": {},
     "output_type": "display_data"
    }
   ],
   "source": [
    "plt.figure(figsize=(8,5))\n",
    "sns.barplot(x='Classes', y='Proportions', hue='Methode', data=df_res1,\n",
    "           palette=['darkgreen', 'lime', 'lightcoral'])\n",
    "plt.title('Stanford3C :  CytOpt estimation and Manual estimation', size=16)\n",
    "plt.legend(loc = 'upper left', fontsize=14)\n",
    "plt.xlabel('Classes', size=14)\n",
    "plt.ylabel('Proportions', size=14)\n",
    "plt.ylim(0,0.4)\n",
    "plt.xticks(fontsize=14)\n",
    "plt.yticks(fontsize=14)\n",
    "#plt.savefig('Barplot_Stan3C_prepocessing.eps', format='eps')"
   ]
  },
  {
   "cell_type": "markdown",
   "metadata": {},
   "source": [
    "#### Target Data : Miami3A"
   ]
  },
  {
   "cell_type": "code",
   "execution_count": 16,
   "metadata": {},
   "outputs": [],
   "source": [
    "X_target = np.asarray(Miami3A_values)\n",
    "X_target = X_target * (X_target > 0)\n",
    "X_target = scaler.fit_transform(X_target)\n",
    "Lab_target = np.asarray(Miami3A_clust['x'])"
   ]
  },
  {
   "cell_type": "markdown",
   "metadata": {},
   "source": [
    "Computation of the benchmark class proportions"
   ]
  },
  {
   "cell_type": "code",
   "execution_count": 17,
   "metadata": {},
   "outputs": [],
   "source": [
    "h_true = np.zeros(10)\n",
    "for k in range(10):\n",
    "    h_true[k] = np.sum(Lab_target == k+1)/len(Lab_target)"
   ]
  },
  {
   "cell_type": "markdown",
   "metadata": {},
   "source": [
    "##### Descent-ascent procedure"
   ]
  },
  {
   "cell_type": "code",
   "execution_count": 18,
   "metadata": {},
   "outputs": [
    {
     "name": "stdout",
     "output_type": "stream",
     "text": [
      "Iteration  0\n",
      "Curent h_hat\n",
      "[0.10066362 0.10154368 0.10215936 0.1010789  0.09917324 0.09145308\n",
      " 0.10137644 0.10133033 0.10091476 0.10030659]\n",
      "Iteration  1000\n",
      "Curent h_hat\n",
      "[0.05418511 0.07851854 0.07950689 0.04945047 0.0279456  0.00713447\n",
      " 0.27179437 0.31262417 0.09012118 0.0287192 ]\n",
      "Iteration  2000\n",
      "Curent h_hat\n",
      "[0.04527437 0.08985527 0.08620452 0.04735395 0.02375972 0.00572195\n",
      " 0.28058279 0.29449806 0.09937392 0.02737546]\n",
      "Iteration  3000\n",
      "Curent h_hat\n",
      "[0.03952758 0.09341898 0.09089588 0.04834276 0.01983477 0.00412052\n",
      " 0.23075771 0.36453406 0.08413924 0.02442851]\n",
      "Iteration  4000\n",
      "Curent h_hat\n",
      "[0.03609295 0.0950396  0.0846129  0.04355005 0.01933303 0.00354007\n",
      " 0.29475343 0.31934036 0.08025046 0.02348714]\n",
      "Iteration  5000\n",
      "Curent h_hat\n",
      "[0.03281925 0.10725239 0.08731811 0.04766157 0.01813971 0.00317706\n",
      " 0.23795948 0.3532264  0.08873789 0.02370815]\n",
      "Iteration  6000\n",
      "Curent h_hat\n",
      "[0.03091716 0.1018174  0.08553259 0.05041238 0.01554781 0.00275823\n",
      " 0.25917587 0.3340048  0.0964704  0.02336337]\n",
      "Iteration  7000\n",
      "Curent h_hat\n",
      "[0.02873932 0.10961308 0.08219338 0.04625678 0.0148667  0.00243913\n",
      " 0.24971461 0.3534113  0.0916311  0.0211346 ]\n",
      "Iteration  8000\n",
      "Curent h_hat\n",
      "[0.02642661 0.09845059 0.0853821  0.04780343 0.01323575 0.00228148\n",
      " 0.2791957  0.34045926 0.0875757  0.0191894 ]\n",
      "Iteration  9000\n",
      "Curent h_hat\n",
      "[0.02608304 0.09270118 0.08370701 0.04539973 0.01269369 0.00218944\n",
      " 0.29872308 0.3262978  0.09099467 0.02121035]\n"
     ]
    }
   ],
   "source": [
    "t0 = time.time()\n",
    "h_hat1 = cytopt_desas(n_it_grad, X_source, Lab_source, X_target, n_it_sto, pas_grad, eps)\n",
    "elapsed_time = time.time() - t0"
   ]
  },
  {
   "cell_type": "code",
   "execution_count": 19,
   "metadata": {},
   "outputs": [
    {
     "name": "stdout",
     "output_type": "stream",
     "text": [
      "Elapsed_time : 20.181546346346536 mins\n"
     ]
    }
   ],
   "source": [
    "print('Elapsed_time :', elapsed_time/60, 'mins')"
   ]
  },
  {
   "cell_type": "markdown",
   "metadata": {},
   "source": [
    "##### Minmax swapping procedure"
   ]
  },
  {
   "cell_type": "code",
   "execution_count": 20,
   "metadata": {},
   "outputs": [],
   "source": [
    "t0 = time.time()\n",
    "results = cytopt_minmax_monitor(lbd, eps_two, X_source, X_target, Lab_source, n_iter,\n",
    "                            h_true, step=step_size, power=power)\n",
    "elapsed_time = time.time() - t0"
   ]
  },
  {
   "cell_type": "code",
   "execution_count": 21,
   "metadata": {},
   "outputs": [
    {
     "name": "stdout",
     "output_type": "stream",
     "text": [
      "Elapsed time :  2.9025154153505963 Mins\n"
     ]
    }
   ],
   "source": [
    "print('Elapsed time : ',elapsed_time/60, 'Mins')"
   ]
  },
  {
   "cell_type": "code",
   "execution_count": 22,
   "metadata": {},
   "outputs": [],
   "source": [
    "h_hat2 = results[0]"
   ]
  },
  {
   "cell_type": "markdown",
   "metadata": {},
   "source": [
    "##### Results"
   ]
  },
  {
   "cell_type": "code",
   "execution_count": 23,
   "metadata": {},
   "outputs": [],
   "source": [
    "Proportion = np.hstack((h_hat1, h_hat2, h_true))\n",
    "Classes = np.tile(np.arange(1,11),3)\n",
    "Methode = np.repeat(['CytOpt_DesAsc', 'CytOpt_Minmax', 'Manual'], 10)\n",
    "df_res1 = pd.DataFrame({'Proportions':Proportion, 'Classes':Classes, 'Methode':Methode})"
   ]
  },
  {
   "cell_type": "code",
   "execution_count": 24,
   "metadata": {},
   "outputs": [
    {
     "data": {
      "text/plain": [
       "(array([0.  , 0.05, 0.1 , 0.15, 0.2 , 0.25, 0.3 , 0.35, 0.4 ]),\n",
       " <a list of 9 Text yticklabel objects>)"
      ]
     },
     "execution_count": 24,
     "metadata": {},
     "output_type": "execute_result"
    },
    {
     "data": {
      "image/png": "[encoded data removed]",
      "text/plain": [
       "<Figure size 576x360 with 1 Axes>"
      ]
     },
     "metadata": {},
     "output_type": "display_data"
    }
   ],
   "source": [
    "plt.figure(figsize=(8,5))\n",
    "sns.barplot(x='Classes', y='Proportions', hue='Methode', data=df_res1,\n",
    "           palette=['darkgreen', 'lime', 'lightcoral'])\n",
    "plt.title('Miami3A :  CytOpt estimation and Manual estimation', size=16)\n",
    "plt.legend(loc = 'upper left', fontsize=14)\n",
    "plt.xlabel('Classes', size=14)\n",
    "plt.ylabel('Proportions', size=14)\n",
    "plt.ylim(0,0.4)\n",
    "plt.xticks(fontsize=14)\n",
    "plt.yticks(fontsize=14)\n",
    "#plt.savefig('Barplot_Stan3C_prepocessing.eps', format='eps')"
   ]
  },
  {
   "cell_type": "markdown",
   "metadata": {},
   "source": [
    "##### Target data : UCLA2B"
   ]
  },
  {
   "cell_type": "code",
   "execution_count": 25,
   "metadata": {},
   "outputs": [],
   "source": [
    "X_target = np.asarray(Ucla2B_values)\n",
    "X_target = X_target * (X_target > 0)\n",
    "X_target = scaler.fit_transform(X_target)\n",
    "Lab_target = np.asarray(Ucla2B_clust['x'])"
   ]
  },
  {
   "cell_type": "markdown",
   "metadata": {},
   "source": [
    "Computation of the benchmark class proportions"
   ]
  },
  {
   "cell_type": "code",
   "execution_count": 26,
   "metadata": {},
   "outputs": [],
   "source": [
    "h_true = np.zeros(10)\n",
    "for k in range(10):\n",
    "    h_true[k] = np.sum(Lab_target == k+1)/len(Lab_target)"
   ]
  },
  {
   "cell_type": "markdown",
   "metadata": {},
   "source": [
    "##### Descent-ascent procedure"
   ]
  },
  {
   "cell_type": "code",
   "execution_count": 27,
   "metadata": {},
   "outputs": [
    {
     "name": "stdout",
     "output_type": "stream",
     "text": [
      "Iteration  0\n",
      "Curent h_hat\n",
      "[0.10034905 0.10084516 0.10072135 0.1000809  0.10176663 0.09347395\n",
      " 0.10065245 0.10098629 0.10154414 0.09958008]\n",
      "Iteration  1000\n",
      "Curent h_hat\n",
      "[0.08262156 0.17753601 0.05634924 0.09317907 0.02977539 0.00979505\n",
      " 0.15254784 0.17677384 0.19610778 0.02531423]\n",
      "Iteration  2000\n",
      "Curent h_hat\n",
      "[0.08029621 0.18345263 0.05004784 0.09643497 0.02368771 0.00872566\n",
      " 0.14415284 0.21736477 0.17249743 0.02333995]\n",
      "Iteration  3000\n",
      "Curent h_hat\n",
      "[0.08071252 0.18689576 0.04405945 0.08485218 0.02035666 0.00701286\n",
      " 0.18156321 0.21474663 0.16153927 0.01826146]\n",
      "Iteration  4000\n",
      "Curent h_hat\n",
      "[0.0820016  0.19110101 0.04971014 0.10359938 0.01972937 0.00630067\n",
      " 0.17325897 0.17704969 0.17824888 0.01900029]\n",
      "Iteration  5000\n",
      "Curent h_hat\n",
      "[0.08146609 0.17211241 0.05444949 0.08694989 0.01875769 0.00562035\n",
      " 0.17211934 0.20433729 0.1861038  0.01808365]\n",
      "Iteration  6000\n",
      "Curent h_hat\n",
      "[0.07428755 0.19541865 0.04970494 0.10885905 0.01752736 0.00535234\n",
      " 0.170496   0.19776377 0.16573564 0.01485471]\n",
      "Iteration  7000\n",
      "Curent h_hat\n",
      "[0.08079498 0.21019889 0.05274257 0.10700976 0.01696017 0.00551198\n",
      " 0.15533569 0.19054657 0.16517218 0.01572722]\n",
      "Iteration  8000\n",
      "Curent h_hat\n",
      "[0.08425674 0.16513526 0.05016227 0.10148332 0.01673803 0.00500272\n",
      " 0.17183161 0.16836306 0.22181522 0.01521176]\n",
      "Iteration  9000\n",
      "Curent h_hat\n",
      "[0.06715532 0.18111032 0.04617459 0.10908246 0.0193267  0.00450969\n",
      " 0.1737247  0.20558379 0.17881943 0.014513  ]\n"
     ]
    }
   ],
   "source": [
    "t0 = time.time()\n",
    "h_hat1 = cytopt_desas(n_it_grad, X_source, Lab_source, X_target, n_it_sto, pas_grad, eps)\n",
    "elapsed_time = time.time() - t0"
   ]
  },
  {
   "cell_type": "code",
   "execution_count": 28,
   "metadata": {},
   "outputs": [
    {
     "name": "stdout",
     "output_type": "stream",
     "text": [
      "Elapsed_time : 17.54920019308726 mins\n"
     ]
    }
   ],
   "source": [
    "print('Elapsed_time :', elapsed_time/60, 'mins')"
   ]
  },
  {
   "cell_type": "markdown",
   "metadata": {},
   "source": [
    "##### Minmax swapping procedure"
   ]
  },
  {
   "cell_type": "code",
   "execution_count": 29,
   "metadata": {},
   "outputs": [],
   "source": [
    "t0 = time.time()\n",
    "results = cytopt_minmax_monitor(lbd, eps_two, X_source, X_target, Lab_source, n_iter,\n",
    "                            h_true, step=step_size, power=power)\n",
    "elapsed_time = time.time() - t0"
   ]
  },
  {
   "cell_type": "code",
   "execution_count": 30,
   "metadata": {},
   "outputs": [
    {
     "name": "stdout",
     "output_type": "stream",
     "text": [
      "Elapsed time :  1.3825626810391745 Mins\n"
     ]
    }
   ],
   "source": [
    "print('Elapsed time : ',elapsed_time/60, 'Mins')"
   ]
  },
  {
   "cell_type": "code",
   "execution_count": 31,
   "metadata": {},
   "outputs": [],
   "source": [
    "h_hat2 = results[0]"
   ]
  },
  {
   "cell_type": "markdown",
   "metadata": {},
   "source": [
    "##### Results"
   ]
  },
  {
   "cell_type": "code",
   "execution_count": 32,
   "metadata": {},
   "outputs": [],
   "source": [
    "Proportion = np.hstack((h_hat1, h_hat2, h_true))\n",
    "Classes = np.tile(np.arange(1,11),3)\n",
    "Methode = np.repeat(['CytOpt_DesAsc', 'CytOpt_Minmax', 'Manual'], 10)\n",
    "df_res1 = pd.DataFrame({'Proportions':Proportion, 'Classes':Classes, 'Methode':Methode})"
   ]
  },
  {
   "cell_type": "code",
   "execution_count": 33,
   "metadata": {},
   "outputs": [
    {
     "data": {
      "text/plain": [
       "(array([0.  , 0.05, 0.1 , 0.15, 0.2 , 0.25, 0.3 , 0.35, 0.4 ]),\n",
       " <a list of 9 Text yticklabel objects>)"
      ]
     },
     "execution_count": 33,
     "metadata": {},
     "output_type": "execute_result"
    },
    {
     "data": {
      "image/png": "[encoded data removed]",
      "text/plain": [
       "<Figure size 576x360 with 1 Axes>"
      ]
     },
     "metadata": {},
     "output_type": "display_data"
    }
   ],
   "source": [
    "plt.figure(figsize=(8,5))\n",
    "sns.barplot(x='Classes', y='Proportions', hue='Methode', data=df_res1,\n",
    "           palette=['darkgreen', 'lime', 'lightcoral'])\n",
    "plt.title('Ucla2B :  CytOpt estimation and Manual estimation', size=16)\n",
    "plt.legend(loc = 'upper left', fontsize=14)\n",
    "plt.xlabel('Classes', size=14)\n",
    "plt.ylabel('Proportions', size=14)\n",
    "plt.ylim(0,0.4)\n",
    "plt.xticks(fontsize=14)\n",
    "plt.yticks(fontsize=14)"
   ]
  }
 ],
 "metadata": {
  "kernelspec": {
   "display_name": "Python 3",
   "language": "python",
   "name": "python3"
  },
  "language_info": {
   "codemirror_mode": {
    "name": "ipython",
    "version": 3
   },
   "file_extension": ".py",
   "mimetype": "text/x-python",
   "name": "python",
   "nbconvert_exporter": "python",
   "pygments_lexer": "ipython3",
   "version": "3.6.9"
  }
 },
 "nbformat": 4,
 "nbformat_minor": 2
}
