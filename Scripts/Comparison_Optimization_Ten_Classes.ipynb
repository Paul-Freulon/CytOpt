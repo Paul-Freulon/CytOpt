{
 "cells": [
  {
   "cell_type": "markdown",
   "metadata": {},
   "source": [
    "### Comparison between the two optimization methods proposed  in the article: The descent-ascent procedure and the minmax swapping procedure."
   ]
  },
  {
   "cell_type": "markdown",
   "metadata": {},
   "source": [
    "##### Import modules and functions"
   ]
  },
  {
   "cell_type": "code",
   "execution_count": 2,
   "metadata": {},
   "outputs": [],
   "source": [
    "import numpy as np\n",
    "import pandas as pd\n",
    "import matplotlib.pyplot as plt\n",
    "import seaborn as sns\n",
    "import time\n",
    "from sklearn import preprocessing\n",
    "from sklearn.preprocessing import MinMaxScaler\n",
    "import sys\n",
    "sys.path.append(\"../Functions\")\n",
    "from Tools_CytOpt_Descent_Ascent import *\n",
    "from Tools_CytOpt_MinMax_Swapping import *"
   ]
  },
  {
   "cell_type": "code",
   "execution_count": 3,
   "metadata": {},
   "outputs": [],
   "source": [
    "sns.set()"
   ]
  },
  {
   "cell_type": "markdown",
   "metadata": {},
   "source": [
    "##### Import data"
   ]
  },
  {
   "cell_type": "code",
   "execution_count": 4,
   "metadata": {},
   "outputs": [],
   "source": [
    "#Source Data\n",
    "\n",
    "Stanford1A_values = pd.read_csv('../Data/W2_1_values.csv',\n",
    "                                 usecols = np.arange(1,8))\n",
    "Stanford1A_clust = pd.read_csv('../Data/W2_1_clust.csv',\n",
    "                                usecols = [1])\n",
    "\n",
    "#Target Data\n",
    "\n",
    "Stanford3A_values = pd.read_csv('../Data/W2_7_values.csv',\n",
    "                                 usecols = np.arange(1,8))\n",
    "Stanford3A_clust = pd.read_csv('../Data/W2_7_clust.csv',\n",
    "                                usecols = [1])"
   ]
  },
  {
   "cell_type": "markdown",
   "metadata": {},
   "source": [
    "We are in the frame work where our cytometry data are divided into 10 classes and the 7 markers available are used to estimate the class proportions in the target data set."
   ]
  },
  {
   "cell_type": "markdown",
   "metadata": {},
   "source": [
    "##### Preprocessing of the data sets"
   ]
  },
  {
   "cell_type": "code",
   "execution_count": 5,
   "metadata": {},
   "outputs": [],
   "source": [
    "X_source = np.asarray(Stanford1A_values)\n",
    "X_target = np.asarray(Stanford3A_values)\n",
    "\n",
    "#Thresholding of the negative values\n",
    "X_source = X_source * (X_source > 0)\n",
    "X_target = X_target * (X_target > 0)\n",
    "\n",
    "scaler = MinMaxScaler()\n",
    "X_source = scaler.fit_transform(X_source)\n",
    "X_target = scaler.fit_transform(X_target)\n",
    "\n",
    "Lab_source = np.asarray(Stanford1A_clust['x'])\n",
    "Lab_target = np.asarray(Stanford3A_clust['x'])"
   ]
  },
  {
   "cell_type": "markdown",
   "metadata": {},
   "source": [
    "#####  Computation of the benchmark proportions $p$ in the target data set"
   ]
  },
  {
   "cell_type": "code",
   "execution_count": 10,
   "metadata": {},
   "outputs": [
    {
     "name": "stdout",
     "output_type": "stream",
     "text": [
      "[0.017004   0.12873617 0.048482   0.05748411 0.00909037 0.00232408\n",
      " 0.33146034 0.28171334 0.10208284 0.02162273]\n"
     ]
    }
   ],
   "source": [
    "h_target = np.zeros(10)\n",
    "for k in range(10):\n",
    "    h_target[k] = np.sum(Lab_target == k+1)/len(Lab_target)\n",
    "\n",
    "print(h_target)"
   ]
  },
  {
   "cell_type": "markdown",
   "metadata": {},
   "source": [
    "### ${\\tt CytOpt}$ to compute an estimate $\\hat{p}$ of the class proportions."
   ]
  },
  {
   "cell_type": "markdown",
   "metadata": {},
   "source": [
    "##### Estimation with the minmax swapping procedure"
   ]
  },
  {
   "cell_type": "markdown",
   "metadata": {},
   "source": [
    "Setting of the parameters"
   ]
  },
  {
   "cell_type": "code",
   "execution_count": 11,
   "metadata": {},
   "outputs": [],
   "source": [
    "lbd = 0.0001\n",
    "eps_one = 0.0001\n",
    "n_iter = 10000\n",
    "step_size = 5\n",
    "power = 0.99"
   ]
  },
  {
   "cell_type": "code",
   "execution_count": 13,
   "metadata": {},
   "outputs": [
    {
     "name": "stdout",
     "output_type": "stream",
     "text": [
      "Elapsed time :  1.5167345841725668 Mins\n"
     ]
    }
   ],
   "source": [
    "t0 = time.time()\n",
    "results = cytopt_minmax_monitor(lbd, eps_one, X_source, X_target, Lab_source, n_iter,\n",
    "                            h_target, step=step_size, power=power)\n",
    "elapsed_time = time.time() - t0\n",
    "print('Elapsed time : ',elapsed_time/60, 'Mins')"
   ]
  },
  {
   "cell_type": "code",
   "execution_count": 14,
   "metadata": {},
   "outputs": [],
   "source": [
    "h_hat = results[0]\n",
    "Kull_Monitoring  = results[2]"
   ]
  },
  {
   "cell_type": "markdown",
   "metadata": {},
   "source": [
    "##### Estimation with the descent-ascent procedure"
   ]
  },
  {
   "cell_type": "code",
   "execution_count": 15,
   "metadata": {},
   "outputs": [],
   "source": [
    "n_it_grad = 10000\n",
    "n_it_sto = 10\n",
    "pas_grad = 10\n",
    "eps=0.0005"
   ]
  },
  {
   "cell_type": "code",
   "execution_count": 16,
   "metadata": {},
   "outputs": [
    {
     "name": "stdout",
     "output_type": "stream",
     "text": [
      "Iteration  0\n",
      "Curent h_hat\n",
      "[0.10133211 0.10077457 0.10009018 0.1008999  0.10103135 0.09128551\n",
      " 0.10120967 0.1012781  0.10168239 0.10041624]\n",
      "Iteration  1000\n",
      "Curent h_hat\n",
      "[0.06218287 0.08360139 0.05029049 0.06636744 0.02706055 0.00926985\n",
      " 0.31395507 0.18623732 0.17760601 0.023429  ]\n",
      "Iteration  2000\n",
      "Curent h_hat\n",
      "[0.05466386 0.09707442 0.04748805 0.06836063 0.01789632 0.00653911\n",
      " 0.30273545 0.1941712  0.19216371 0.01890724]\n",
      "Iteration  3000\n",
      "Curent h_hat\n",
      "[0.04417504 0.08930128 0.04222875 0.06071943 0.01378142 0.00532232\n",
      " 0.40083108 0.20313345 0.12375193 0.01675531]\n",
      "Iteration  4000\n",
      "Curent h_hat\n",
      "[0.04754961 0.10056232 0.03921954 0.06879368 0.01389613 0.00488233\n",
      " 0.37345314 0.19611433 0.1390961  0.01643283]\n",
      "Iteration  5000\n",
      "Curent h_hat\n",
      "[0.04823618 0.10132787 0.03718718 0.06951445 0.01259906 0.00522318\n",
      " 0.38241748 0.20299463 0.1242282  0.01627177]\n",
      "Iteration  6000\n",
      "Curent h_hat\n",
      "[0.04738637 0.09675249 0.03247439 0.06715733 0.01145513 0.00426868\n",
      " 0.36123343 0.21164863 0.15356592 0.01405763]\n",
      "Iteration  7000\n",
      "Curent h_hat\n",
      "[0.04979429 0.09557002 0.02905735 0.06114293 0.01120954 0.00399461\n",
      " 0.3153519  0.27071532 0.14963066 0.01353338]\n",
      "Iteration  8000\n",
      "Curent h_hat\n",
      "[0.04956496 0.11984053 0.02851248 0.06169356 0.01159112 0.00382399\n",
      " 0.31735256 0.2324087  0.16206427 0.01314784]\n",
      "Iteration  9000\n",
      "Curent h_hat\n",
      "[0.0487288  0.12986256 0.02961205 0.07027959 0.01186094 0.00363911\n",
      " 0.30895422 0.23509651 0.14914904 0.01281718]\n"
     ]
    }
   ],
   "source": [
    "t0 = time.time()\n",
    "\n",
    "res_two = cytopt_desas_monitor(n_it_grad, X_source, Lab_source, X_target,\n",
    "                                         n_it_sto, h_target, step_grad=pas_grad,\n",
    "                                          eps=eps)\n",
    "elapsed_time_two = time.time() - t0"
   ]
  },
  {
   "cell_type": "code",
   "execution_count": 17,
   "metadata": {},
   "outputs": [
    {
     "name": "stdout",
     "output_type": "stream",
     "text": [
      "Elapsed time :  15.730473152796428 mins\n"
     ]
    }
   ],
   "source": [
    "print('Elapsed time : ', elapsed_time_two/60, 'mins')"
   ]
  },
  {
   "cell_type": "code",
   "execution_count": 19,
   "metadata": {},
   "outputs": [],
   "source": [
    "h_hat_two = res_two[0]\n",
    "Kullback_old = res_two[1]"
   ]
  },
  {
   "cell_type": "markdown",
   "metadata": {},
   "source": [
    "### Results of the two optimization procedures"
   ]
  },
  {
   "cell_type": "markdown",
   "metadata": {},
   "source": [
    "We display the evolution of the Kullback-Leibler divergence between $\\hat{p}$ and $p$, along the iterations of the two minimization procedures."
   ]
  },
  {
   "cell_type": "code",
   "execution_count": 21,
   "metadata": {},
   "outputs": [
    {
     "data": {
      "image/png": "[encoded data removed]",
      "text/plain": [
       "<Figure size 864x504 with 1 Axes>"
      ]
     },
     "metadata": {},
     "output_type": "display_data"
    }
   ],
   "source": [
    "n_0 = 10\n",
    "n_stop = 8000\n",
    "\n",
    "plt.figure(figsize=(12,7))\n",
    "#plt.title('Evolution of the Kullback-Leibler divergence', \n",
    "#         size = 20)\n",
    "plt.plot(np.arange(n_0,n_stop), Kull_Monitoring[n_0:n_stop],c='maroon',\n",
    "         label='MinMax-Swapping procedure')\n",
    "plt.plot(np.arange(n_0,n_stop), Kullback_old[n_0:n_stop],c='navy',\n",
    "        label='Descent-Ascent procedure')\n",
    "plt.legend(loc='best', fontsize=16)\n",
    "plt.xlabel('Iteration', size = 20)\n",
    "plt.ylabel(r'KL$(\\hat{p}|p)$', size = 20)\n",
    "plt.ylim(0,0.6)\n",
    "plt.xticks(size=18)\n",
    "plt.yticks(size=18);\n",
    "#plt.savefig('Comparison_Minimization_procedures.eps', format='eps')"
   ]
  },
  {
   "cell_type": "code",
   "execution_count": null,
   "metadata": {},
   "outputs": [],
   "source": []
  }
 ],
 "metadata": {
  "kernelspec": {
   "display_name": "Python 3",
   "language": "python",
   "name": "python3"
  },
  "language_info": {
   "codemirror_mode": {
    "name": "ipython",
    "version": 3
   },
   "file_extension": ".py",
   "mimetype": "text/x-python",
   "name": "python",
   "nbconvert_exporter": "python",
   "pygments_lexer": "ipython3",
   "version": "3.6.9"
  }
 },
 "nbformat": 4,
 "nbformat_minor": 2
}
