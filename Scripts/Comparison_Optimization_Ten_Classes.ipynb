{
 "cells": [
  {
   "cell_type": "markdown",
   "metadata": {},
   "source": [
    "### Comparison between the two optimization methods proposed  in the article: The descent-ascent procedure and the minmax swapping procedure."
   ]
  },
  {
   "cell_type": "markdown",
   "metadata": {},
   "source": [
    "##### Import modules and functions"
   ]
  },
  {
   "cell_type": "code",
   "execution_count": 28,
   "metadata": {},
   "outputs": [],
   "source": [
    "import numpy as np\n",
    "import pandas as pd\n",
    "import matplotlib.pyplot as plt\n",
    "import seaborn as sns\n",
    "import time\n",
    "from sklearn import preprocessing\n",
    "from sklearn.preprocessing import MinMaxScaler\n",
    "import sys\n",
    "sys.path.append(\"../Functions\")\n",
    "from Tools_CytOpt_Descent_Ascent import *\n",
    "from Tools_CytOpt_MinMax_Swapping import *"
   ]
  },
  {
   "cell_type": "code",
   "execution_count": 29,
   "metadata": {},
   "outputs": [],
   "source": [
    "#Setting of the seed.\n",
    "np.random.seed(2)"
   ]
  },
  {
   "cell_type": "code",
   "execution_count": 30,
   "metadata": {},
   "outputs": [],
   "source": [
    "sns.set()"
   ]
  },
  {
   "cell_type": "markdown",
   "metadata": {},
   "source": [
    "##### Import data"
   ]
  },
  {
   "cell_type": "code",
   "execution_count": 31,
   "metadata": {},
   "outputs": [],
   "source": [
    "#Source Data\n",
    "\n",
    "Stanford1A_values = pd.read_csv('../Data/W2_1_values.csv',\n",
    "                                 usecols = np.arange(1,8))\n",
    "Stanford1A_clust = pd.read_csv('../Data/W2_1_clust.csv',\n",
    "                                usecols = [1])\n",
    "\n",
    "#Target Data\n",
    "\n",
    "Stanford3A_values = pd.read_csv('../Data/W2_7_values.csv',\n",
    "                                 usecols = np.arange(1,8))\n",
    "Stanford3A_clust = pd.read_csv('../Data/W2_7_clust.csv',\n",
    "                                usecols = [1])"
   ]
  },
  {
   "cell_type": "markdown",
   "metadata": {},
   "source": [
    "We are in the frame work where our cytometry data are divided into 10 classes and the 7 markers available are used to estimate the class proportions in the target data set."
   ]
  },
  {
   "cell_type": "markdown",
   "metadata": {},
   "source": [
    "##### Preprocessing of the data sets"
   ]
  },
  {
   "cell_type": "code",
   "execution_count": 32,
   "metadata": {},
   "outputs": [],
   "source": [
    "X_source = np.asarray(Stanford1A_values)\n",
    "X_target = np.asarray(Stanford3A_values)\n",
    "\n",
    "#Thresholding of the negative values\n",
    "X_source = X_source * (X_source > 0)\n",
    "X_target = X_target * (X_target > 0)\n",
    "\n",
    "scaler = MinMaxScaler()\n",
    "X_source = scaler.fit_transform(X_source)\n",
    "X_target = scaler.fit_transform(X_target)\n",
    "\n",
    "Lab_source = np.asarray(Stanford1A_clust['x'])\n",
    "Lab_target = np.asarray(Stanford3A_clust['x'])"
   ]
  },
  {
   "cell_type": "markdown",
   "metadata": {},
   "source": [
    "#####  Computation of the benchmark proportions $p$ in the target data set"
   ]
  },
  {
   "cell_type": "code",
   "execution_count": 33,
   "metadata": {},
   "outputs": [
    {
     "name": "stdout",
     "output_type": "stream",
     "text": [
      "[0.017004   0.12873617 0.048482   0.05748411 0.00909037 0.00232408\n",
      " 0.33146034 0.28171334 0.10208284 0.02162273]\n"
     ]
    }
   ],
   "source": [
    "h_target = np.zeros(10)\n",
    "for k in range(10):\n",
    "    h_target[k] = np.sum(Lab_target == k+1)/len(Lab_target)\n",
    "\n",
    "print(h_target)"
   ]
  },
  {
   "cell_type": "markdown",
   "metadata": {},
   "source": [
    "### ${\\tt CytOpt}$ to compute an estimate $\\hat{p}$ of the class proportions."
   ]
  },
  {
   "cell_type": "markdown",
   "metadata": {},
   "source": [
    "##### Estimation with the minmax swapping procedure"
   ]
  },
  {
   "cell_type": "markdown",
   "metadata": {},
   "source": [
    "Setting of the parameters"
   ]
  },
  {
   "cell_type": "code",
   "execution_count": 34,
   "metadata": {},
   "outputs": [],
   "source": [
    "lbd = 0.0001\n",
    "eps = 0.0001\n",
    "n_iter = 4000\n",
    "step_size = 5\n",
    "power = 0.99"
   ]
  },
  {
   "cell_type": "code",
   "execution_count": 35,
   "metadata": {},
   "outputs": [
    {
     "name": "stdout",
     "output_type": "stream",
     "text": [
      "Iteration  100  - Curent theta_hat: \n",
      " [5.63245622e-02 5.25601836e-02 1.68307920e-02 8.58987040e-02\n",
      " 5.26468272e-04 3.62040871e-06 3.53300828e-01 3.10050915e-01\n",
      " 1.04768632e-01 1.97352953e-02]\n",
      "Iteration  200  - Curent theta_hat: \n",
      " [0.06482985 0.08375512 0.03756169 0.09030867 0.00057191 0.0243826\n",
      " 0.26695383 0.25027508 0.15712564 0.02423561]\n",
      "Iteration  300  - Curent theta_hat: \n",
      " [0.06298482 0.09507842 0.03578831 0.07557254 0.00056547 0.00981441\n",
      " 0.30566392 0.23071736 0.15582814 0.02798661]\n",
      "Iteration  400  - Curent theta_hat: \n",
      " [0.06131134 0.10515673 0.03017003 0.10023071 0.00078052 0.00534011\n",
      " 0.33673674 0.2296048  0.11260928 0.01805975]\n",
      "Iteration  500  - Curent theta_hat: \n",
      " [0.05394347 0.09162523 0.02464175 0.07506713 0.00097923 0.01219143\n",
      " 0.33831359 0.23592461 0.14508759 0.02222597]\n",
      "Iteration  600  - Curent theta_hat: \n",
      " [0.05028078 0.08980808 0.0265915  0.08171516 0.00107647 0.0079569\n",
      " 0.37336246 0.19806341 0.15097635 0.02016889]\n",
      "Iteration  700  - Curent theta_hat: \n",
      " [0.04765094 0.08532527 0.02700586 0.08397466 0.00127968 0.02534509\n",
      " 0.35706199 0.18466166 0.16796311 0.01973174]\n",
      "Iteration  800  - Curent theta_hat: \n",
      " [0.04749193 0.0880611  0.0288551  0.08680359 0.0012771  0.00862896\n",
      " 0.35332287 0.19025475 0.17570151 0.01960309]\n",
      "Iteration  900  - Curent theta_hat: \n",
      " [0.04939039 0.08885094 0.03415704 0.09112576 0.00146645 0.01230631\n",
      " 0.32862392 0.20751247 0.1606328  0.02593393]\n",
      "Iteration  1000  - Curent theta_hat: \n",
      " [0.04919004 0.08562931 0.03494149 0.09137238 0.00181215 0.00897284\n",
      " 0.33543885 0.21800582 0.1530853  0.02155182]\n",
      "Iteration  1100  - Curent theta_hat: \n",
      " [0.0494754  0.08576881 0.03564039 0.07968044 0.00244187 0.00975045\n",
      " 0.33326014 0.20852037 0.16567395 0.02978819]\n",
      "Iteration  1200  - Curent theta_hat: \n",
      " [0.05000408 0.08751248 0.0354566  0.08366791 0.00287363 0.0052837\n",
      " 0.34666293 0.204639   0.15412517 0.0297745 ]\n",
      "Iteration  1300  - Curent theta_hat: \n",
      " [0.05031015 0.09114296 0.03671343 0.08111872 0.00282148 0.00760216\n",
      " 0.3304133  0.20638981 0.16316924 0.03031875]\n",
      "Iteration  1400  - Curent theta_hat: \n",
      " [0.04944536 0.09009994 0.03580034 0.07801399 0.00303919 0.01247252\n",
      " 0.35753038 0.20701503 0.14310938 0.02347388]\n",
      "Iteration  1500  - Curent theta_hat: \n",
      " [0.04929879 0.09139813 0.03472975 0.08087678 0.00318747 0.00942614\n",
      " 0.34629601 0.20671981 0.153534   0.02453311]\n",
      "Iteration  1600  - Curent theta_hat: \n",
      " [0.0480509  0.09140353 0.03493166 0.07924163 0.00310318 0.00844838\n",
      " 0.34446415 0.20841045 0.15714681 0.0247993 ]\n",
      "Iteration  1700  - Curent theta_hat: \n",
      " [0.04687424 0.09083449 0.03363225 0.07973844 0.00300824 0.0141214\n",
      " 0.34208615 0.2054971  0.16054164 0.02366603]\n",
      "Iteration  1800  - Curent theta_hat: \n",
      " [0.04588598 0.0879429  0.03415248 0.07478181 0.00291371 0.01688984\n",
      " 0.34820163 0.20237352 0.16113198 0.02572614]\n",
      "Iteration  1900  - Curent theta_hat: \n",
      " [0.04582975 0.08737584 0.03672639 0.07231417 0.00302904 0.01301024\n",
      " 0.34435261 0.19709422 0.17848203 0.0217857 ]\n",
      "Iteration  2000  - Curent theta_hat: \n",
      " [0.04403681 0.08499868 0.03603041 0.07127688 0.00306352 0.03797823\n",
      " 0.33120326 0.1951669  0.17744503 0.01880028]\n",
      "Iteration  2100  - Curent theta_hat: \n",
      " [0.0456296  0.08693743 0.03728871 0.07751935 0.00326512 0.01806675\n",
      " 0.34160303 0.20278957 0.16856585 0.0183346 ]\n",
      "Iteration  2200  - Curent theta_hat: \n",
      " [0.04614341 0.08656288 0.03802935 0.0761778  0.00337156 0.01263862\n",
      " 0.34795544 0.19899346 0.17159586 0.01853163]\n",
      "Iteration  2300  - Curent theta_hat: \n",
      " [0.04665233 0.08975149 0.03863006 0.08152565 0.00336059 0.00812176\n",
      " 0.34824502 0.20011383 0.16590572 0.01769354]\n",
      "Iteration  2400  - Curent theta_hat: \n",
      " [0.04616379 0.08906553 0.04063484 0.08007042 0.0035793  0.01270526\n",
      " 0.35618145 0.19926772 0.1528977  0.01943398]\n",
      "Iteration  2500  - Curent theta_hat: \n",
      " [0.04532121 0.08683341 0.04073781 0.07862172 0.00378241 0.01366245\n",
      " 0.36557921 0.19552542 0.15178935 0.01814699]\n",
      "Iteration  2600  - Curent theta_hat: \n",
      " [0.04507392 0.08636421 0.04058144 0.07923397 0.00373269 0.01537555\n",
      " 0.35847351 0.1952735  0.15787163 0.01801958]\n",
      "Iteration  2700  - Curent theta_hat: \n",
      " [0.0450439  0.08657698 0.0408513  0.08048858 0.0041374  0.02265244\n",
      " 0.3433116  0.19402239 0.16559664 0.01731877]\n",
      "Iteration  2800  - Curent theta_hat: \n",
      " [0.04534114 0.08762951 0.04101657 0.08084    0.00425414 0.02151843\n",
      " 0.34903863 0.19414091 0.15936172 0.01685893]\n",
      "Iteration  2900  - Curent theta_hat: \n",
      " [0.04534868 0.08724502 0.04067516 0.08038641 0.00447979 0.0121583\n",
      " 0.35370549 0.1963377  0.16323    0.01643346]\n",
      "Iteration  3000  - Curent theta_hat: \n",
      " [0.04538801 0.08604605 0.04020748 0.08158219 0.00440486 0.01085507\n",
      " 0.34991103 0.19991313 0.16569676 0.01599542]\n",
      "Iteration  3100  - Curent theta_hat: \n",
      " [0.04526066 0.0853138  0.04108092 0.08284357 0.00450238 0.01104732\n",
      " 0.35235773 0.20245372 0.15950245 0.01563747]\n",
      "Iteration  3200  - Curent theta_hat: \n",
      " [0.04375197 0.08291016 0.03944909 0.08025907 0.00444783 0.03927376\n",
      " 0.35125141 0.19160393 0.1518644  0.01518838]\n",
      "Iteration  3300  - Curent theta_hat: \n",
      " [0.04401545 0.08451288 0.0391414  0.08239206 0.00445707 0.02868466\n",
      " 0.3524187  0.19591381 0.15209974 0.01636424]\n",
      "Iteration  3400  - Curent theta_hat: \n",
      " [0.04451148 0.08525709 0.03872968 0.08227392 0.00455686 0.01803486\n",
      " 0.35778942 0.19553996 0.15693096 0.01637576]\n",
      "Iteration  3500  - Curent theta_hat: \n",
      " [0.04393157 0.08454942 0.03885016 0.07939214 0.00460248 0.02320531\n",
      " 0.35849479 0.19535364 0.15628997 0.01533053]\n",
      "Iteration  3600  - Curent theta_hat: \n",
      " [0.04330091 0.08356741 0.03696294 0.07976181 0.00470606 0.04544398\n",
      " 0.35418419 0.19252665 0.14417837 0.01536767]\n",
      "Iteration  3700  - Curent theta_hat: \n",
      " [0.04406021 0.08463577 0.03775305 0.08495407 0.00486337 0.02452292\n",
      " 0.35998761 0.19452574 0.14933388 0.01536337]\n",
      "Iteration  3800  - Curent theta_hat: \n",
      " [0.04403604 0.08505983 0.03832532 0.08402625 0.00488894 0.01912101\n",
      " 0.36064643 0.19847845 0.15055269 0.01486504]\n",
      "Iteration  3900  - Curent theta_hat: \n",
      " [0.04385146 0.08431444 0.03725287 0.08492582 0.004795   0.02399848\n",
      " 0.35339719 0.1983368  0.15412035 0.01500759]\n",
      "Elapsed time :  0.19323149919509888 Mins\n"
     ]
    }
   ],
   "source": [
    "t0 = time.time()\n",
    "results = cytopt_minmax(X_source, X_target, Lab_source, eps=eps, lbd=lbd, n_iter=n_iter,\n",
    "                  step=step_size, power=power, theta_true=h_target, monitoring=True)\n",
    "elapsed_time = time.time() - t0\n",
    "print('Elapsed time : ',elapsed_time/60, 'Mins')"
   ]
  },
  {
   "cell_type": "code",
   "execution_count": 36,
   "metadata": {},
   "outputs": [],
   "source": [
    "h_hat = results[0]\n",
    "Kull_Monitoring  = results[1]"
   ]
  },
  {
   "cell_type": "markdown",
   "metadata": {},
   "source": [
    "##### Estimation with the descent-ascent procedure"
   ]
  },
  {
   "cell_type": "code",
   "execution_count": 37,
   "metadata": {},
   "outputs": [],
   "source": [
    "n_it_grad = 4000\n",
    "n_it_sto = 10\n",
    "pas_grad = 10\n",
    "eps=0.0001"
   ]
  },
  {
   "cell_type": "code",
   "execution_count": 38,
   "metadata": {},
   "outputs": [
    {
     "name": "stdout",
     "output_type": "stream",
     "text": [
      "\n",
      " Epsilon:  0.0001\n",
      "Iteration  0  - Curent h_hat: \n",
      " [0.10035811 0.10039528 0.10035495 0.10037012 0.10004548 0.0972758\n",
      " 0.10047223 0.10044285 0.10029661 0.09998857]\n",
      "Iteration  100  - Curent h_hat: \n",
      " [0.10983766 0.11151857 0.10477051 0.10837269 0.08722634 0.04236051\n",
      " 0.12052642 0.1151258  0.11425793 0.08600358]\n",
      "Iteration  200  - Curent h_hat: \n",
      " [0.1117826  0.11467921 0.10234391 0.10947078 0.07607881 0.03201188\n",
      " 0.13480438 0.12311317 0.12142488 0.07429037]\n",
      "Iteration  300  - Curent h_hat: \n",
      " [0.11156795 0.1166751  0.09827518 0.10746378 0.06792792 0.02649064\n",
      " 0.14887514 0.12971902 0.12662043 0.06638484]\n",
      "Iteration  400  - Curent h_hat: \n",
      " [0.1103077  0.11764202 0.0944276  0.10516484 0.06217742 0.02297413\n",
      " 0.16258953 0.13401482 0.12980954 0.06089241]\n",
      "Iteration  500  - Curent h_hat: \n",
      " [0.10791363 0.11668351 0.08852084 0.10147625 0.05663289 0.02043067\n",
      " 0.177568   0.1363793  0.13759674 0.05679816]\n",
      "Iteration  600  - Curent h_hat: \n",
      " [0.10619458 0.11571897 0.08470815 0.09859307 0.0521199  0.01899711\n",
      " 0.19749655 0.13921403 0.13459262 0.05236503]\n",
      "Iteration  700  - Curent h_hat: \n",
      " [0.10368625 0.11413693 0.08081768 0.09637518 0.0486889  0.01788893\n",
      " 0.20813687 0.14431622 0.13706613 0.0488869 ]\n",
      "Iteration  800  - Curent h_hat: \n",
      " [0.10043147 0.11159852 0.07620337 0.09266247 0.04527479 0.01654951\n",
      " 0.22699557 0.14722362 0.13757796 0.04548274]\n",
      "Iteration  900  - Curent h_hat: \n",
      " [0.09798474 0.11042277 0.07307578 0.09007998 0.04299126 0.01602806\n",
      " 0.23776902 0.1486539  0.14024548 0.04274902]\n",
      "Iteration  1000  - Curent h_hat: \n",
      " [0.09513011 0.10865922 0.06933882 0.08725316 0.04068475 0.01536118\n",
      " 0.24912316 0.15122079 0.14272174 0.04050708]\n",
      "Iteration  1100  - Curent h_hat: \n",
      " [0.0918964  0.10552859 0.06637135 0.08421279 0.03821281 0.01468519\n",
      " 0.26606405 0.15132687 0.1435188  0.03818317]\n",
      "Iteration  1200  - Curent h_hat: \n",
      " [0.08925377 0.10369459 0.06358364 0.0818834  0.03611343 0.0136065\n",
      " 0.27692949 0.15372645 0.14473924 0.03646949]\n",
      "Iteration  1300  - Curent h_hat: \n",
      " [0.08635975 0.10181798 0.06127571 0.07897675 0.03451457 0.01292926\n",
      " 0.29124879 0.15559471 0.14224975 0.03503274]\n",
      "Iteration  1400  - Curent h_hat: \n",
      " [0.08392473 0.09967987 0.05915344 0.07727622 0.03310843 0.01238982\n",
      " 0.30072721 0.15648306 0.14362152 0.0336357 ]\n",
      "Iteration  1500  - Curent h_hat: \n",
      " [0.0820043  0.09767239 0.05758055 0.07575838 0.03197683 0.01221057\n",
      " 0.30418085 0.15873515 0.14715518 0.03272581]\n",
      "Iteration  1600  - Curent h_hat: \n",
      " [0.07936824 0.09571191 0.05558223 0.07422488 0.03078368 0.01173238\n",
      " 0.31789406 0.15987075 0.14343182 0.03140005]\n",
      "Iteration  1700  - Curent h_hat: \n",
      " [0.07789097 0.09536115 0.05438501 0.073633   0.03016211 0.01152645\n",
      " 0.3212582  0.1617597  0.14350037 0.03052306]\n",
      "Iteration  1800  - Curent h_hat: \n",
      " [0.07594109 0.09368496 0.05239442 0.07204656 0.02913071 0.01112073\n",
      " 0.3312325  0.16138309 0.14371239 0.02935356]\n",
      "Iteration  1900  - Curent h_hat: \n",
      " [0.074427   0.09317679 0.05118093 0.07087331 0.0284667  0.01079271\n",
      " 0.33424452 0.16569282 0.14282039 0.02832483]\n",
      "Iteration  2000  - Curent h_hat: \n",
      " [0.07262743 0.091617   0.0495717  0.06950168 0.02764017 0.01053674\n",
      " 0.34138802 0.16574615 0.14424327 0.02712784]\n",
      "Iteration  2100  - Curent h_hat: \n",
      " [0.07086297 0.09023298 0.04841839 0.06839746 0.02688474 0.01028349\n",
      " 0.34815575 0.16592109 0.14439347 0.02644967]\n",
      "Iteration  2200  - Curent h_hat: \n",
      " [0.06984906 0.08976951 0.04796085 0.06809782 0.02623533 0.01006422\n",
      " 0.34153756 0.17107998 0.14964422 0.02576146]\n",
      "Iteration  2300  - Curent h_hat: \n",
      " [0.0682134  0.0887008  0.04658457 0.06650832 0.02566941 0.00975453\n",
      " 0.34186774 0.17126121 0.15643843 0.0250016 ]\n",
      "Iteration  2400  - Curent h_hat: \n",
      " [0.06663027 0.08677053 0.04556763 0.06520044 0.02483907 0.00947668\n",
      " 0.35162553 0.16912754 0.15673819 0.02402412]\n",
      "Iteration  2500  - Curent h_hat: \n",
      " [0.06589971 0.0864288  0.04498657 0.06441362 0.02439701 0.00938554\n",
      " 0.35086882 0.17249969 0.15749242 0.02362782]\n",
      "Iteration  2600  - Curent h_hat: \n",
      " [0.06505967 0.08691576 0.04452453 0.06438835 0.02403509 0.00931204\n",
      " 0.34235385 0.17697781 0.16325456 0.02317835]\n",
      "Iteration  2700  - Curent h_hat: \n",
      " [0.06403947 0.08719843 0.04375555 0.06379197 0.0234494  0.00919466\n",
      " 0.34687748 0.17861205 0.16067125 0.02240975]\n",
      "Iteration  2800  - Curent h_hat: \n",
      " [0.06278008 0.08603001 0.04296229 0.06337848 0.02294251 0.00908248\n",
      " 0.35566628 0.17723048 0.15826002 0.02166736]\n",
      "Iteration  2900  - Curent h_hat: \n",
      " [0.06174386 0.08542095 0.04228668 0.06231891 0.02231981 0.00897465\n",
      " 0.35567402 0.18045888 0.15973017 0.02107208]\n",
      "Iteration  3000  - Curent h_hat: \n",
      " [0.06195932 0.08628727 0.04287657 0.06363241 0.02235279 0.00888247\n",
      " 0.34486889 0.18390313 0.16448079 0.02075637]\n",
      "Iteration  3100  - Curent h_hat: \n",
      " [0.06112424 0.08638991 0.04233589 0.06384941 0.02201832 0.00870442\n",
      " 0.35050585 0.18823113 0.15657756 0.02026328]\n",
      "Iteration  3200  - Curent h_hat: \n",
      " [0.0608433  0.08651555 0.04234616 0.06412955 0.02196566 0.00862309\n",
      " 0.34197362 0.19258118 0.16089393 0.02012794]\n",
      "Iteration  3300  - Curent h_hat: \n",
      " [0.0601237  0.08629874 0.04185839 0.06382796 0.02165318 0.00851829\n",
      " 0.34735397 0.19068906 0.16001806 0.01965865]\n",
      "Iteration  3400  - Curent h_hat: \n",
      " [0.05927259 0.08580024 0.04142842 0.06349402 0.02141997 0.0084575\n",
      " 0.34899826 0.19108729 0.16078544 0.01925627]\n",
      "Iteration  3500  - Curent h_hat: \n",
      " [0.05890587 0.08584003 0.0413356  0.06341038 0.02114951 0.00826421\n",
      " 0.3401652  0.19528819 0.16673284 0.01890817]\n",
      "Iteration  3600  - Curent h_hat: \n",
      " [0.05856498 0.08528839 0.04093979 0.06365569 0.02091175 0.0082764\n",
      " 0.33876775 0.20242785 0.16258667 0.01858073]\n",
      "Iteration  3700  - Curent h_hat: \n",
      " [0.05838246 0.08629201 0.04112925 0.06438336 0.02077821 0.00853489\n",
      " 0.3282361  0.20299445 0.17088908 0.01838019]\n",
      "Iteration  3800  - Curent h_hat: \n",
      " [0.05779894 0.08657923 0.04059097 0.06373163 0.0204277  0.00840766\n",
      " 0.33685782 0.20459853 0.16298895 0.01801856]\n",
      "Iteration  3900  - Curent h_hat: \n",
      " [0.05735196 0.0866679  0.04072215 0.06379192 0.02028904 0.00849878\n",
      " 0.33878057 0.20462987 0.16152212 0.0177457 ]\n"
     ]
    }
   ],
   "source": [
    "t0 = time.time()\n",
    "\n",
    "res_two = cytopt_desasc(X_s=X_source, X_t=X_target, Lab_source=Lab_source, eps=eps, n_out=n_it_grad,\n",
    "                     n_stoc=n_it_sto, step_grad=pas_grad, theta_true=h_target, monitoring=True)\n",
    "\n",
    "elapsed_time_two = time.time() - t0"
   ]
  },
  {
   "cell_type": "code",
   "execution_count": 39,
   "metadata": {},
   "outputs": [
    {
     "name": "stdout",
     "output_type": "stream",
     "text": [
      "Elapsed time :  2.0156790137290956 mins\n"
     ]
    }
   ],
   "source": [
    "print('Elapsed time : ', elapsed_time_two/60, 'mins')"
   ]
  },
  {
   "cell_type": "code",
   "execution_count": 40,
   "metadata": {},
   "outputs": [],
   "source": [
    "h_hat_two = res_two[0]\n",
    "Kullback_old = res_two[1]"
   ]
  },
  {
   "cell_type": "markdown",
   "metadata": {},
   "source": [
    "### Results of the two optimization procedures"
   ]
  },
  {
   "cell_type": "markdown",
   "metadata": {},
   "source": [
    "We display the evolution of the Kullback-Leibler divergence between $\\hat{p}$ and $p$, along the iterations of the two minimization procedures."
   ]
  },
  {
   "cell_type": "code",
   "execution_count": 41,
   "metadata": {},
   "outputs": [
    {
     "data": {
      "image/png": "[encoded data removed]",
      "text/plain": [
       "<Figure size 864x504 with 1 Axes>"
      ]
     },
     "metadata": {},
     "output_type": "display_data"
    }
   ],
   "source": [
    "n_0 = 10\n",
    "n_stop = 4000\n",
    "\n",
    "plt.figure(figsize=(12,7))\n",
    "#plt.title('Evolution of the Kullback-Leibler divergence', \n",
    "#         size = 20)\n",
    "plt.plot(np.arange(n_0,n_stop), Kull_Monitoring[n_0:n_stop],c='maroon',\n",
    "         label='MinMax-Swapping procedure')\n",
    "plt.plot(np.arange(n_0,n_stop), Kullback_old[n_0:n_stop],c='navy',\n",
    "        label='Descent-Ascent procedure')\n",
    "plt.legend(loc='best', fontsize=16)\n",
    "plt.xlabel('Iteration', size = 20)\n",
    "plt.ylabel(r'KL$(\\hat{p}|p)$', size = 20)\n",
    "plt.ylim(0,0.6)\n",
    "plt.xticks(size=18)\n",
    "plt.yticks(size=18);\n",
    "#plt.savefig('Comparison_Minimization_procedures.eps', format='eps')"
   ]
  },
  {
   "cell_type": "code",
   "execution_count": null,
   "metadata": {},
   "outputs": [],
   "source": []
  }
 ],
 "metadata": {
  "kernelspec": {
   "display_name": "Python 3",
   "language": "python",
   "name": "python3"
  },
  "language_info": {
   "codemirror_mode": {
    "name": "ipython",
    "version": 3
   },
   "file_extension": ".py",
   "mimetype": "text/x-python",
   "name": "python",
   "nbconvert_exporter": "python",
   "pygments_lexer": "ipython3",
   "version": "3.8.10"
  }
 },
 "nbformat": 4,
 "nbformat_minor": 2
}
